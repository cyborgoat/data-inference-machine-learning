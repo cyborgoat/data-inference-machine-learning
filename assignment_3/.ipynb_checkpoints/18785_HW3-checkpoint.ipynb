{
 "cells": [
  {
   "cell_type": "markdown",
   "metadata": {},
   "source": [
    "# CARNEGIE MELLON UNIVERSITY\n",
    "\n",
    "**Name**: Junxiao Guo\n",
    "\n",
    "**Andrew ID**: junxiaog\n",
    "\n",
    "**Course**: DATA, INFERENCE & APPLIED MACHINE LEARNING (COURSE 18-785)\n",
    "\n",
    "**ASSIGNMENT 3**"
   ]
  },
  {
   "cell_type": "code",
   "execution_count": 2,
   "metadata": {
    "pycharm": {
     "is_executing": false
    }
   },
   "outputs": [],
   "source": [
    "%config IPCompleter.greedy=True\n",
    "# !pip install numpy\n",
    "# !pip install pandas\n",
    "# !pip install matplotlib\n",
    "# !pip install scipy\n",
    "import numpy as np\n",
    "import pandas as pd\n",
    "import matplotlib.pyplot as plt\n",
    "import scipy\n",
    "from scipy import stats\n",
    "import matplotlib.dates as mdates\n"
   ]
  },
  {
   "cell_type": "markdown",
   "metadata": {},
   "source": [
    "## Quesiont 1"
   ]
  },
  {
   "cell_type": "code",
   "execution_count": 3,
   "metadata": {
    "pycharm": {
     "is_executing": false
    }
   },
   "outputs": [
    {
     "name": "stdout",
     "output_type": "stream",
     "text": [
      "Mean: 6753.636363636364\n",
      "Standard Deviation: 1088.9717646166182\n",
      "Standard Error of the Mean: 344.3631083801271\n",
      "Degrees of Freedom: 10  \n",
      "t-statistic: -2.8207540608310198 \n",
      "P Value:0.018137235176105812  \n"
     ]
    }
   ],
   "source": [
    "hypo_mean = 7725\n",
    "calorie_stat = np.array([5260, 5470, 5640, 6180, 6390, 6515, 6805, 7515, 7515, 8230, 8770])\n",
    "sample_mean,sample_std,sample_ste = np.mean(calorie_stat),np.std(calorie_stat),stats.sem(calorie_stat)\n",
    "# t_stat,pval = stats.ttest_1samp(calorie_stat,ret_mean)\n",
    "# t_stat = np.abs(sample_mean - hypo_mean) / ((sample_std)/np.sqrt(len(calorie_stat)))\n",
    "dof = len(calorie_stat)-1\n",
    "# pval =2*(1 - stats.t.cdf(calorie_stat,df=dof))\n",
    "\n",
    "t_stat,pval = stats.ttest_1samp(calorie_stat,hypo_mean)\n",
    "\n",
    "print(\"Mean: {}\\nStandard Deviation: {}\\nStandard Error of the Mean: {}\".format(sample_mean,sample_std,sample_ste))\n",
    "print(\"Degrees of Freedom: {}  \\nt-statistic: {} \\nP Value:{}  \".format(dof,t_stat,pval))\n",
    "# reject = True if t_stat == pval else False\n"
   ]
  },
  {
   "cell_type": "markdown",
   "metadata": {},
   "source": [
    "### Answer 1\n",
    "\n",
    "Mean: 6753.636363636364\n",
    "Standard Deviation: 1088.9717646166182\n",
    "Standard Error of the Mean: 344.3631083801271\n",
    "Degrees of Freedom: 10  \n",
    "t-statistic: -2.8207540608310198 \n",
    "P Value:0.018137235176105812  \n",
    "\n",
    "- Since the data comes from a normal distribution, and the mean value is about 6753KJ (which is smaller than 7725KJ), a **left tail test** is appropriate.\n",
    "- Because the P value is pretty small, the null hypothesis should be rejected.\n",
    "\n"
   ]
  },
  {
   "cell_type": "markdown",
   "metadata": {},
   "source": [
    "## Question 2"
   ]
  },
  {
   "cell_type": "code",
   "execution_count": 4,
   "metadata": {
    "pycharm": {
     "is_executing": false
    }
   },
   "outputs": [
    {
     "name": "stdout",
     "output_type": "stream",
     "text": [
      "t-score: 11.647653131319812 \n",
      "p-value: 2.315890162874227e-19\n"
     ]
    }
   ],
   "source": [
    "class Ireland():\n",
    "    def __init__(self):\n",
    "        self.sample_size = 42\n",
    "        self.mean = 74\n",
    "        self.std = 7.4\n",
    "class Elsewhere():\n",
    "    def __init__(self):\n",
    "        self.sample_size = 61\n",
    "        self.mean = 57\n",
    "        self.std = 7.1\n",
    "        \n",
    "ire = Ireland()\n",
    "elsw = Elsewhere()\n",
    "t, p = scipy.stats.ttest_ind_from_stats(mean1=ire.mean,mean2=elsw.mean,std1=ire.std,std2=elsw.std,nobs1=ire.sample_size,nobs2=elsw.sample_size,equal_var=False)\n",
    "### With formula\n",
    "t2 = (ire.mean-elsw.mean)/(np.sqrt((np.power(ire.std,2)/ire.sample_size)+(np.power(elsw.std,2)/elsw.sample_size)))\n",
    "\n",
    "assert t == t2 , 't score are not the same!'\n",
    "print(\"t-score: {} \\np-value: {}\".format(t,p))\n",
    "\n",
    "\n",
    " "
   ]
  },
  {
   "cell_type": "markdown",
   "metadata": {
    "pycharm": {
     "name": "#%% md\n"
    }
   },
   "source": [
    "### Answer 2\n",
    "\n",
    "- t-score: 11.647653131319812 \n",
    "- p-value: 2.315890162874227e-19\n",
    "- A **two-sample test** is appropriate since  the GOES of Ireland and Elsewhere are independent to each other.\n",
    "- A right tail is appropriate since the test is about test if the GOES in Irish pub tastes **significantly better** than elsewhere around the globe."
   ]
  },
  {
   "cell_type": "markdown",
   "metadata": {},
   "source": [
    "\n",
    "## Question 3"
   ]
  },
  {
   "cell_type": "code",
   "execution_count": 5,
   "metadata": {
    "pycharm": {
     "is_executing": false,
     "name": "#%%\n"
    }
   },
   "outputs": [
    {
     "name": "stdout",
     "output_type": "stream",
     "text": [
      "                gdp  fertility\n",
      "gdp        1.000000  -0.537393\n",
      "fertility -0.537393   1.000000\n"
     ]
    },
    {
     "data": {
      "image/png": "[encoded data removed]",
      "text/plain": [
       "<Figure size 432x288 with 1 Axes>"
      ]
     },
     "metadata": {
      "needs_background": "light"
     },
     "output_type": "display_data"
    }
   ],
   "source": [
    "from scipy.stats import pearsonr\n",
    "\n",
    "f_gdp = pd.read_csv('API_NY.GDP.PCAP.PP.CD_DS2_en_csv_v2_151039/API_NY.GDP.PCAP.PP.CD_DS2_en_csv_v2_151039.csv',skiprows=4)\n",
    "f_fert = pd.read_csv('API_SP.DYN.TFRT.IN_DS2_en_csv_v2_153225/API_SP.DYN.TFRT.IN_DS2_en_csv_v2_153225.csv',skiprows=4)\n",
    "codeArr = f_gdp['Country Code']\n",
    "assert list(f_gdp['Country Code']) == list(f_fert['Country Code']), \"Country Code doesn't match\"\n",
    "gdp,fertility = f_gdp['2013'],f_fert['2013']\n",
    "newdata = {\"gdp\":gdp,\"fertility\":fertility}\n",
    "newdf = pd.DataFrame(newdata)\n",
    "coef = newdf.corr()\n",
    "print(coef)\n",
    "assert len(gdp) == len(fertility), \"lengh of two arrays has changed\"\n",
    "for i,j in zip(gdp,fertility):\n",
    "    plt.scatter(i,j,marker='.')\n",
    "plt.xlabel('Fertility rate, total (births per woman)')\n",
    "plt.ylabel('GDP per capita PPP (current international $)')\n",
    "plt.show()\n",
    "assert len(gdp) == len(fertility), '2013 stat lenght are not the same'\n",
    "gdp_mean,fert_mean = np.mean(gdp),np.mean(fertility)\n",
    "gdp_std,fert_std = np.std(gdp),np.std(fertility)\n",
    "corr_coefficient = (1/(len(gdp)))*np.sum((gdp-gdp_mean)*(fertility-fert_mean))\n"
   ]
  },
  {
   "cell_type": "markdown",
   "metadata": {
    "pycharm": {
     "is_executing": false,
     "name": "#%% md\n"
    }
   },
   "source": [
    "## Answer 3\n",
    "\n",
    "- Correlation Coefficient = -0.537393\n",
    "- Interpolation: The result is showing a **Negative Correlation** which menas the higher rate of fertility somehow leads to lower GDP percapita and vise versa.\n",
    " "
   ]
  },
  {
   "cell_type": "markdown",
   "metadata": {},
   "source": [
    "\n",
    "## Question 4"
   ]
  },
  {
   "cell_type": "code",
   "execution_count": 52,
   "metadata": {
    "pycharm": {
     "is_executing": false,
     "name": "#%%\n"
    }
   },
   "outputs": [
    {
     "data": {
      "image/png": "[encoded data removed]",
      "text/plain": [
       "<Figure size 432x288 with 1 Axes>"
      ]
     },
     "metadata": {
      "needs_background": "light"
     },
     "output_type": "display_data"
    },
    {
     "data": {
      "image/png": "[encoded data removed]",
      "text/plain": [
       "<Figure size 432x288 with 1 Axes>"
      ]
     },
     "metadata": {
      "needs_background": "light"
     },
     "output_type": "display_data"
    }
   ],
   "source": [
    "f_monthly = pd.read_excel('monthly.xls',sheet_name='Monthly')\n",
    "time,price = f_monthly['Unnamed: 0'],f_monthly['Average House Price']\n",
    "pos = f_monthly.loc[f_monthly['Unnamed: 0'] == '2016-12-01'].index[0]\n",
    "time,price = time[:pos],price[:pos]\n",
    "plt.plot_date(time,price,'-')\n",
    "plt.xlabel(\"Year\")\n",
    "plt.ylabel(\"Average house price in pounds sterling (£)\")\n",
    "plt.show()\n",
    "\n",
    "###########\n",
    "mrt = []\n",
    "for i in range (1,len(price)-1):\n",
    "    mrt.append((price[i]-price[i-1])/price[i-1])\n",
    "plt.acorr(np.array(mrt), maxlags=20)\n",
    "plt.axhline(0.05, color='black', lw=2)\n",
    "plt.show()"
   ]
  },
  {
   "cell_type": "markdown",
   "metadata": {
    "pycharm": {
     "is_executing": false,
     "name": "#%% md\n"
    }
   },
   "source": [
    "## ANSWER 4\n",
    "\n",
    "\n"
   ]
  },
  {
   "cell_type": "markdown",
   "metadata": {},
   "source": [
    "## Question 5\n",
    "\n"
   ]
  },
  {
   "cell_type": "code",
   "execution_count": 74,
   "metadata": {
    "pycharm": {
     "is_executing": false,
     "name": "#%%\n"
    }
   },
   "outputs": [
    {
     "data": {
      "text/plain": [
       "<matplotlib.legend.Legend at 0x1c1ff01908>"
      ]
     },
     "execution_count": 74,
     "metadata": {},
     "output_type": "execute_result"
    },
    {
     "data": {
      "image/png": "[encoded data removed]",
      "text/plain": [
       "<Figure size 432x288 with 1 Axes>"
      ]
     },
     "metadata": {
      "needs_background": "light"
     },
     "output_type": "display_data"
    }
   ],
   "source": [
    "# cumu_ret = np.cumprod(1 + price.values) - 1\n",
    "# print(cumu_ret)\n",
    "# plt.plot(time,cumu_ret)\n",
    "# ((price + 1).cumprod() - 1).plot()\n",
    "f_ftse = pd.read_csv('FTSE100.csv')\n",
    "ftse_date,ftse_index = f_ftse['Date'].astype('datetime64[ns]') ,f_ftse['Adj Close']\n",
    "plt.plot_date(ftse_date,ftse_index,marker='.',label='FTSE Index')\n",
    "cumu_ret = []\n",
    "for i in range (len(price)):\n",
    "    cumu_ret.append((price[i]-price[0]))\n",
    "plt.plot_date(ftse_date[:-1],cumu_ret[::-1],label='Cumulative Return From House Market')\n",
    "plt.ylim(bottom=100)\n",
    "plt.legend()\n",
    "\n",
    "\n",
    "\n",
    "\n",
    "\n",
    "\n"
   ]
  },
  {
   "cell_type": "markdown",
   "metadata": {
    "pycharm": {
     "name": "#%%\n"
    }
   },
   "source": [
    "\n",
    "### MISSING\n",
    "\n",
    "- How to aclculate the cumulative return\n",
    "\n",
    "\n",
    "### Reicitation\n",
    "- Use np.cumsum"
   ]
  },
  {
   "cell_type": "code",
   "execution_count": null,
   "metadata": {},
   "outputs": [],
   "source": []
  }
 ],
 "metadata": {
  "kernelspec": {
   "display_name": "Python 3",
   "language": "python",
   "name": "python3"
  },
  "language_info": {
   "codemirror_mode": {
    "name": "ipython",
    "version": 3
   },
   "file_extension": ".py",
   "mimetype": "text/x-python",
   "name": "python",
   "nbconvert_exporter": "python",
   "pygments_lexer": "ipython3",
   "version": "3.7.3"
  },
  "pycharm": {
   "stem_cell": {
    "cell_type": "raw",
    "metadata": {
     "collapsed": false
    },
    "source": []
   }
  }
 },
 "nbformat": 4,
 "nbformat_minor": 2
}
