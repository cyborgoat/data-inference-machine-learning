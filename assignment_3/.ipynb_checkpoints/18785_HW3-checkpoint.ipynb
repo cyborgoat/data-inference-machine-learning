{
 "cells": [
  {
   "cell_type": "markdown",
   "metadata": {},
   "source": [
    "# CARNEGIE MELLON UNIVERSITY\n",
    "\n",
    "**Name**: Junxiao Guo\n",
    "\n",
    "**Andrew ID**: junxiaog\n",
    "\n",
    "**Course**: DATA, INFERENCE & APPLIED MACHINE LEARNING (COURSE 18-785)\n",
    "\n",
    "**ASSIGNMENT 3**"
   ]
  },
  {
   "cell_type": "code",
   "execution_count": 2,
   "metadata": {
    "pycharm": {
     "is_executing": false
    }
   },
   "outputs": [
    {
     "name": "stdout",
     "output_type": "stream",
     "text": [
      "Requirement already satisfied: numpy in /Users/robert/anaconda3/lib/python3.7/site-packages (1.17.2)\n",
      "Requirement already satisfied: pandas in /Users/robert/anaconda3/lib/python3.7/site-packages (0.25.1)\n",
      "Requirement already satisfied: python-dateutil>=2.6.1 in /Users/robert/anaconda3/lib/python3.7/site-packages (from pandas) (2.8.0)\n",
      "Requirement already satisfied: pytz>=2017.2 in /Users/robert/anaconda3/lib/python3.7/site-packages (from pandas) (2019.2)\n",
      "Requirement already satisfied: numpy>=1.13.3 in /Users/robert/anaconda3/lib/python3.7/site-packages (from pandas) (1.17.2)\n",
      "Requirement already satisfied: six>=1.5 in /Users/robert/anaconda3/lib/python3.7/site-packages (from python-dateutil>=2.6.1->pandas) (1.12.0)\n",
      "Requirement already satisfied: matplotlib in /Users/robert/anaconda3/lib/python3.7/site-packages (3.1.1)\n",
      "Requirement already satisfied: cycler>=0.10 in /Users/robert/anaconda3/lib/python3.7/site-packages (from matplotlib) (0.10.0)\n",
      "Requirement already satisfied: kiwisolver>=1.0.1 in /Users/robert/anaconda3/lib/python3.7/site-packages (from matplotlib) (1.1.0)\n",
      "Requirement already satisfied: pyparsing!=2.0.4,!=2.1.2,!=2.1.6,>=2.0.1 in /Users/robert/anaconda3/lib/python3.7/site-packages (from matplotlib) (2.4.2)\n",
      "Requirement already satisfied: python-dateutil>=2.1 in /Users/robert/anaconda3/lib/python3.7/site-packages (from matplotlib) (2.8.0)\n",
      "Requirement already satisfied: numpy>=1.11 in /Users/robert/anaconda3/lib/python3.7/site-packages (from matplotlib) (1.17.2)\n",
      "Requirement already satisfied: six in /Users/robert/anaconda3/lib/python3.7/site-packages (from cycler>=0.10->matplotlib) (1.12.0)\n",
      "Requirement already satisfied: setuptools in /Users/robert/anaconda3/lib/python3.7/site-packages (from kiwisolver>=1.0.1->matplotlib) (41.2.0)\n",
      "Requirement already satisfied: scipy in /Users/robert/anaconda3/lib/python3.7/site-packages (1.3.1)\n"
     ]
    }
   ],
   "source": [
    "%config IPCompleter.greedy=True\n",
    "!pip install numpy\n",
    "!pip install pandas\n",
    "!pip install matplotlib\n",
    "!pip install scipy\n",
    "import numpy as np\n",
    "import pandas as pd\n",
    "import matplotlib.pyplot as plt\n",
    "import scipy\n",
    "from scipy import stats\n",
    "import matplotlib.dates as mdates\n"
   ]
  },
  {
   "cell_type": "markdown",
   "metadata": {},
   "source": [
    "## Quesiont 1"
   ]
  },
  {
   "cell_type": "code",
   "execution_count": 3,
   "metadata": {
    "pycharm": {
     "is_executing": false
    }
   },
   "outputs": [
    {
     "name": "stdout",
     "output_type": "stream",
     "text": [
      "Mean: 6753.636363636364\n",
      "Standard Deviation: 1088.9717646166182\n",
      "Standard Error of the Mean: 344.3631083801271\n",
      "Degrees of Freedom: 10  \n",
      "t-statistic: -2.8207540608310198 \n",
      "P Value:0.018137235176105812  \n"
     ]
    }
   ],
   "source": [
    "hypo_mean = 7725\n",
    "calorie_stat = np.array([5260, 5470, 5640, 6180, 6390, 6515, 6805, 7515, 7515, 8230, 8770])\n",
    "sample_mean,sample_std,sample_ste = np.mean(calorie_stat),np.std(calorie_stat),stats.sem(calorie_stat)\n",
    "# t_stat,pval = stats.ttest_1samp(calorie_stat,ret_mean)\n",
    "# t_stat = np.abs(sample_mean - hypo_mean) / ((sample_std)/np.sqrt(len(calorie_stat)))\n",
    "dof = len(calorie_stat)-1\n",
    "# pval =2*(1 - stats.t.cdf(calorie_stat,df=dof))\n",
    "\n",
    "t_stat,pval = stats.ttest_1samp(calorie_stat,hypo_mean)\n",
    "\n",
    "print(\"Mean: {}\\nStandard Deviation: {}\\nStandard Error of the Mean: {}\".format(sample_mean,sample_std,sample_ste))\n",
    "print(\"Degrees of Freedom: {}  \\nt-statistic: {} \\nP Value:{}  \".format(dof,t_stat,pval))\n",
    "# reject = True if t_stat == pval else False\n"
   ]
  },
  {
   "cell_type": "markdown",
   "metadata": {},
   "source": [
    "### Answer 1\n",
    "\n",
    "- Mean: 6753.636363636364\n",
    "\n",
    "- Standard Deviation: 1088.9717646166182\n",
    "\n",
    "- Standard Error of the Mean: 344.3631083801271\n",
    "\n",
    "- Degrees of Freedom: 10  \n",
    "\n",
    "- t-statistic: -2.8207540608310198 \n",
    "\n",
    "- P Value:0.018137235176105812  \n",
    "\n",
    "- Since the data comes from a normal distribution, and the mean value is about 6753KJ (which is smaller than 7725KJ), a **left tail test** is appropriate.\n",
    "- Because the P value is pretty small, the null hypothesis should be rejected.\n",
    "\n"
   ]
  },
  {
   "cell_type": "markdown",
   "metadata": {},
   "source": [
    "## Question 2"
   ]
  },
  {
   "cell_type": "code",
   "execution_count": 4,
   "metadata": {
    "pycharm": {
     "is_executing": false
    }
   },
   "outputs": [
    {
     "name": "stdout",
     "output_type": "stream",
     "text": [
      "t-score: 11.647653131319812 \n",
      "p-value: 2.315890162874227e-19\n"
     ]
    }
   ],
   "source": [
    "class Ireland():\n",
    "    def __init__(self):\n",
    "        self.sample_size = 42\n",
    "        self.mean = 74\n",
    "        self.std = 7.4\n",
    "class Elsewhere():\n",
    "    def __init__(self):\n",
    "        self.sample_size = 61\n",
    "        self.mean = 57\n",
    "        self.std = 7.1\n",
    "        \n",
    "ire = Ireland()\n",
    "elsw = Elsewhere()\n",
    "t, p = scipy.stats.ttest_ind_from_stats(mean1=ire.mean,mean2=elsw.mean,std1=ire.std,std2=elsw.std,nobs1=ire.sample_size,nobs2=elsw.sample_size,equal_var=False)\n",
    "### With formula\n",
    "t2 = (ire.mean-elsw.mean)/(np.sqrt((np.power(ire.std,2)/ire.sample_size)+(np.power(elsw.std,2)/elsw.sample_size)))\n",
    "\n",
    "assert t == t2 , 't score are not the same!'\n",
    "print(\"t-score: {} \\np-value: {}\".format(t,p))\n",
    "\n",
    "\n",
    " "
   ]
  },
  {
   "cell_type": "markdown",
   "metadata": {
    "pycharm": {
     "name": "#%% md\n"
    }
   },
   "source": [
    "### Answer 2\n",
    "\n",
    "- t-score: 11.647653131319812 \n",
    "- p-value: 2.315890162874227e-19\n",
    "- A **two-sample test** is appropriate since  the GOES of Ireland and Elsewhere are independent to each other.\n",
    "- A right tail is appropriate since the test is about test if the GOES in Irish pub tastes **significantly better** than elsewhere around the globe."
   ]
  },
  {
   "cell_type": "markdown",
   "metadata": {},
   "source": [
    "\n",
    "## Question 3"
   ]
  },
  {
   "cell_type": "code",
   "execution_count": 23,
   "metadata": {
    "pycharm": {
     "is_executing": false,
     "name": "#%%\n"
    }
   },
   "outputs": [
    {
     "name": "stdout",
     "output_type": "stream",
     "text": [
      "                gdp  fertility\n",
      "gdp        1.000000  -0.537393\n",
      "fertility -0.537393   1.000000\n"
     ]
    },
    {
     "data": {
      "image/png": "[encoded data removed]",
      "text/plain": [
       "<Figure size 432x288 with 1 Axes>"
      ]
     },
     "metadata": {
      "needs_background": "light"
     },
     "output_type": "display_data"
    }
   ],
   "source": [
    "from scipy.stats import pearsonr\n",
    "\n",
    "f_gdp = pd.read_csv('API_NY.GDP.PCAP.PP.CD_DS2_en_csv_v2_151039/API_NY.GDP.PCAP.PP.CD_DS2_en_csv_v2_151039.csv',skiprows=4)\n",
    "f_fert = pd.read_csv('API_SP.DYN.TFRT.IN_DS2_en_csv_v2_153225/API_SP.DYN.TFRT.IN_DS2_en_csv_v2_153225.csv',skiprows=4)\n",
    "codeArr = f_gdp['Country Code']\n",
    "assert list(f_gdp['Country Code']) == list(f_fert['Country Code']), \"Country Code doesn't match\"\n",
    "gdp,fertility = f_gdp['2013'],f_fert['2013']\n",
    "newdata = {\"gdp\":gdp,\"fertility\":fertility}\n",
    "newdf = pd.DataFrame(newdata)\n",
    "coef = newdf.corr()\n",
    "print(coef)\n",
    "assert len(gdp) == len(fertility), \"lengh of two arrays has changed\"\n",
    "for i,j in zip(gdp,fertility):\n",
    "    plt.scatter(i,j,marker='.')\n",
    "plt.xlabel('Fertility rate, total (births per woman)')\n",
    "plt.ylabel('GDP per capita PPP (current international $)')\n",
    "plt.show()\n",
    "assert len(gdp) == len(fertility), '2013 stat lenght are not the same'\n",
    "gdp_mean,fert_mean = np.mean(gdp),np.mean(fertility)\n",
    "gdp_std,fert_std = np.std(gdp),np.std(fertility)\n",
    "corr_coefficient = (1/(len(gdp)))*np.sum((gdp-gdp_mean)*(fertility-fert_mean))\n"
   ]
  },
  {
   "cell_type": "markdown",
   "metadata": {
    "pycharm": {
     "is_executing": false,
     "name": "#%% md\n"
    }
   },
   "source": [
    "## Answer 3\n",
    "\n",
    "- Correlation Coefficient = -0.537393\n",
    "- Interpolation: The result is showing a **Negative Correlation** which menas the higher rate of fertility somehow leads to lower GDP percapita and vise versa.\n",
    " "
   ]
  },
  {
   "cell_type": "markdown",
   "metadata": {},
   "source": [
    "\n",
    "## Question 4"
   ]
  },
  {
   "cell_type": "code",
   "execution_count": 25,
   "metadata": {
    "pycharm": {
     "is_executing": false,
     "name": "#%%\n"
    }
   },
   "outputs": [
    {
     "data": {
      "image/png": "[encoded data removed]",
      "text/plain": [
       "<Figure size 432x288 with 1 Axes>"
      ]
     },
     "metadata": {
      "needs_background": "light"
     },
     "output_type": "display_data"
    },
    {
     "name": "stdout",
     "output_type": "stream",
     "text": [
      "53496.79874629582\n",
      "52892.8616056409\n",
      "53677.43527036604\n",
      "54385.726746842905\n",
      "55107.37508473964\n",
      "54541.121263398316\n",
      "54040.710150128696\n",
      "53259.45483510138\n",
      "53466.620438180275\n",
      "53018.022496348276\n",
      "53104.08298366285\n",
      "51951.19858877525\n",
      "51850.184753038884\n",
      "51977.531547948514\n",
      "51977.83309633772\n",
      "52712.599600483525\n",
      "52905.52984346278\n",
      "52726.86431733669\n",
      "52311.708837638886\n",
      "51096.962350928516\n",
      "50699.394068185895\n",
      "49601.66424056363\n",
      "49744.66664117078\n",
      "50075.486575301955\n",
      "50374.68086121174\n",
      "50187.35687463019\n",
      "51677.23916070586\n",
      "50901.094774654724\n",
      "52785.72075537236\n",
      "52244.832116496895\n",
      "51696.53869999742\n",
      "51177.008148000365\n",
      "51209.29566335671\n",
      "50613.52993412117\n",
      "51423.44932201938\n",
      "51620.66872807112\n",
      "51516.106991311724\n",
      "52101.386530048374\n",
      "51505.63366557336\n",
      "51764.969620902615\n",
      "51514.0\n",
      "52120.75225293412\n",
      "51685.811393788\n",
      "51586.25178352747\n",
      "52850.39492823515\n",
      "52085.08977575319\n",
      "52092.41820263018\n",
      "50901.39424969238\n",
      "50789.01961737665\n",
      "51626.674392473455\n",
      "52063.33513600136\n",
      "52180.03214845939\n",
      "51347.21376375574\n",
      "51622.57785893353\n",
      "51237.56088066927\n",
      "50932.77726027965\n",
      "50807.39418306595\n",
      "50936.777154777126\n",
      "50798.39012044228\n",
      "50520.513075124814\n",
      "51255.778620000354\n",
      "51519.16572707927\n",
      "52699.922994863555\n",
      "52908.80264931291\n",
      "53325.265169481216\n",
      "53588.78749510021\n",
      "54025.00892828875\n",
      "54334.447686738706\n",
      "54824.775782197445\n",
      "55436.22979995669\n",
      "55092.59989594183\n",
      "54655.73001402233\n",
      "55621.14166195197\n",
      "56515.844039860276\n",
      "57405.888374662754\n",
      "58195.73422198172\n",
      "59188.54489691091\n",
      "60133.64083816004\n",
      "60581.225691805674\n",
      "61334.25898102667\n",
      "61488.550048438265\n",
      "61879.08918997026\n",
      "62037.02746437386\n",
      "61819.73316921656\n",
      "62769.686473587746\n",
      "63493.42204600459\n",
      "64300.76189548283\n",
      "65131.30342885248\n",
      "65870.52577938225\n",
      "66654.0065616325\n",
      "66171.31436417799\n",
      "65947.66555331991\n",
      "66123.40061308244\n",
      "66149.98525027135\n",
      "66372.04930660319\n",
      "66384.91723251254\n",
      "67021.05095656314\n",
      "68308.08444157396\n",
      "68856.12948098495\n",
      "69932.91240271712\n",
      "70789.06673328014\n",
      "71232.00161836567\n",
      "72634.71785206116\n",
      "73232.4647098641\n",
      "73768.89062213036\n",
      "74954.04956817353\n",
      "75218.66294885977\n",
      "75060.41772749327\n",
      "77071.73555556666\n",
      "79392.50071862608\n",
      "80892.76033510375\n",
      "81005.7768623543\n",
      "81451.92585426511\n",
      "81133.023864067\n",
      "80736.64403019844\n",
      "80672.4943424586\n",
      "81036.37183337766\n",
      "81769.72191545548\n",
      "82188.4235900111\n",
      "83449.86792928692\n",
      "83313.6222240198\n",
      "85076.55424012888\n",
      "86243.5536142985\n",
      "87266.61074726714\n",
      "89067.56660733464\n",
      "89961.60235322852\n",
      "90361.0699707607\n",
      "92432.4407385196\n",
      "91652.7883154801\n",
      "92261.67328317484\n",
      "93544.47843242878\n",
      "93231.2393098514\n",
      "94964.63096954703\n",
      "96792.3696311658\n",
      "100472.59760742397\n",
      "102885.56431030654\n",
      "106692.77148333393\n",
      "108818.43164693665\n",
      "110890.15515848016\n",
      "112918.52086174641\n",
      "113664.99999869258\n",
      "115760.80043861092\n",
      "117205.77795913324\n",
      "117905.37063548333\n",
      "118521.46532489978\n",
      "122179.55401614559\n",
      "122747.92605727464\n",
      "124751.70095744541\n",
      "127214.49808746259\n",
      "128251.25837374644\n",
      "129257.64820765173\n",
      "130473.42006569954\n",
      "131947.33528670555\n",
      "133387.67365328103\n",
      "135443.56606921315\n",
      "134805.7313988402\n",
      "138729.555860297\n",
      "142584.2637695411\n",
      "145917.92298342183\n",
      "149019.87983144113\n",
      "151523.8625865971\n",
      "154298.53053373907\n",
      "153742.53287880527\n",
      "153726.7628262129\n",
      "152159.1514191792\n",
      "153438.58808298077\n",
      "152622.72858610333\n",
      "151757.17457932982\n",
      "152878.93971300693\n",
      "153876.16709019558\n",
      "156128.02798940762\n",
      "157272.2450702194\n",
      "157790.9884948069\n",
      "158347.70145224457\n",
      "157309.746260903\n",
      "156516.53693081523\n",
      "157107.34546862583\n",
      "157138.89021436276\n",
      "157249.7561795395\n",
      "158477.76609916604\n",
      "158572.9677955554\n",
      "162082.50416309942\n",
      "163573.27872831732\n",
      "164632.29089936113\n",
      "165729.90767969616\n",
      "167732.73474557398\n",
      "167721.47997902884\n",
      "169412.6745145543\n",
      "169623.4885843071\n",
      "172184.8498951892\n",
      "173745.94493999294\n",
      "173224.53049976702\n",
      "174705.5258575478\n",
      "177082.55412879636\n",
      "180314.16731576188\n",
      "181584.49998302542\n",
      "184070.2181710629\n",
      "184269.86418284485\n",
      "183898.4488907591\n",
      "184723.32792935075\n",
      "186043.5794315853\n",
      "184098.57497859444\n",
      "182079.51300920467\n",
      "180473.15404079118\n",
      "179358.0486597549\n",
      "179110.14291901523\n",
      "178554.75808169114\n",
      "173583.06468614895\n",
      "172415.0192543656\n",
      "169316.47759819875\n",
      "164653.94354167173\n",
      "161797.3886572462\n",
      "158872.29352452795\n",
      "158442.08419883397\n",
      "153047.5806019747\n",
      "150500.86326219823\n",
      "147745.5316568768\n",
      "150946.10824925444\n",
      "151860.78219449572\n",
      "154015.6331650904\n",
      "156441.9141097473\n",
      "158870.5398716005\n",
      "160223.90395336982\n",
      "161815.9236311709\n",
      "162038.08423830624\n",
      "162764.2042984425\n",
      "162102.966424186\n",
      "163480.7988812591\n",
      "161319.62812062714\n",
      "164518.66914615798\n",
      "167801.9732996666\n",
      "169162.07985551722\n",
      "170110.78385261222\n",
      "169346.9480709775\n",
      "166507.2342952669\n",
      "166756.8160470652\n",
      "164278.88498689496\n",
      "163132.6719598941\n",
      "162248.85138753557\n",
      "161211.07933294083\n",
      "161182.66344413566\n",
      "164750.90273734243\n",
      "165609.0190003285\n",
      "167208.2451990291\n",
      "168205.26407364156\n",
      "168730.56418629354\n",
      "165914.21319666324\n",
      "166255.5495859632\n",
      "165650.31790496648\n",
      "165797.99075201727\n",
      "163821.8275080931\n",
      "162228.2452483306\n",
      "162712.3494870118\n",
      "163327.22122696255\n",
      "164134.29288210077\n",
      "166021.53392380537\n",
      "165738.11246632694\n",
      "164389.4036293741\n",
      "164728.76660748772\n",
      "163963.50185574702\n",
      "164153.36079102158\n",
      "163852.73855996892\n",
      "162262.19113647856\n",
      "162245.2461600404\n",
      "162637.55473582164\n",
      "164630.41071102823\n",
      "165586.07596781277\n",
      "167911.57078564048\n",
      "168940.6602015012\n",
      "170825.4476048051\n",
      "170513.95101190862\n",
      "172126.7645870434\n",
      "173677.9406900169\n",
      "174566.47626291684\n",
      "175825.59607678515\n",
      "176490.99683756212\n",
      "177845.972053752\n",
      "180264.31017904694\n",
      "183576.51362076946\n",
      "186511.60564797136\n",
      "188902.9375142849\n",
      "188948.5473836462\n",
      "189305.83419945484\n",
      "188374.45437013524\n",
      "189333.24101826389\n",
      "189387.8116045214\n",
      "188558.5705347691\n",
      "188445.79287124303\n",
      "187963.5537987436\n",
      "189453.67528214984\n",
      "193048.40117742703\n",
      "195166.061980201\n",
      "195055.29116402112\n",
      "195621.3355367959\n",
      "195279.05678235803\n",
      "195585.01130345208\n",
      "196807.12797912135\n",
      "196305.11469686363\n",
      "196999.27268665645\n",
      "196828.5353098585\n",
      "196929.73676571966\n",
      "200250.96391953877\n",
      "202435.7767787895\n",
      "204367.87235551907\n",
      "204967.69691916776\n",
      "205715.26053609123\n",
      "206144.96181465668\n",
      "206014.6916767684\n",
      "205904.19165138534\n",
      "204947.4300277793\n",
      "205897.84601060362\n"
     ]
    },
    {
     "data": {
      "image/png": "[encoded data removed]",
      "text/plain": [
       "<Figure size 432x288 with 1 Axes>"
      ]
     },
     "metadata": {
      "needs_background": "light"
     },
     "output_type": "display_data"
    },
    {
     "name": "stdout",
     "output_type": "stream",
     "text": [
      "0.057661230215616824\n"
     ]
    }
   ],
   "source": [
    "f_monthly = pd.read_excel('monthly.xls',sheet_name='Monthly')\n",
    "time,price = f_monthly['Unnamed: 0'],f_monthly['Average House Price']\n",
    "pos = f_monthly.loc[f_monthly['Unnamed: 0'] == '2016-12-01'].index[0]\n",
    "time,price = time[:pos+1],price[:pos+1]\n",
    "plt.plot_date(time,price,'-')\n",
    "plt.xlabel(\"Year\")\n",
    "plt.ylabel(\"Average house price in pounds sterling (£)\")\n",
    "plt.show()\n",
    "\n",
    "###########\n",
    "mrt = []\n",
    "for i in range (1,len(price)):\n",
    "    mrt.append((price[i]-price[i-1])/price[i-1])\n",
    "plt.acorr(np.array(mrt), maxlags=20)\n",
    "plt.axhline(0.05, color='orange', lw=2,label=\"p < 0.05\")\n",
    "plt.xlabel(\"Lags\")\n",
    "plt.ylabel(\"P Value\")\n",
    "plt.legend()\n",
    "plt.show()\n",
    "\n",
    "art = []\n",
    "for i in range (12,len(price)):\n",
    "    art.append((price[i]-price[i-12])/price[i-12])\n",
    "print(np.mean(art))\n"
   ]
  },
  {
   "cell_type": "markdown",
   "metadata": {
    "pycharm": {
     "is_executing": false,
     "name": "#%% md\n"
    }
   },
   "source": [
    "## ANSWER 4\n",
    "\n",
    "Anualized Return = 0.057661230215616824\n",
    "\n"
   ]
  },
  {
   "cell_type": "markdown",
   "metadata": {},
   "source": [
    "## Question 5\n"
   ]
  },
  {
   "cell_type": "code",
   "execution_count": 16,
   "metadata": {
    "pycharm": {
     "is_executing": false,
     "name": "#%%\n"
    },
    "scrolled": true
   },
   "outputs": [
    {
     "data": {
      "image/png": "[encoded data removed]",
      "text/plain": [
       "<Figure size 432x288 with 1 Axes>"
      ]
     },
     "metadata": {
      "needs_background": "light"
     },
     "output_type": "display_data"
    },
    {
     "name": "stdout",
     "output_type": "stream",
     "text": [
      "0.0498159299296903\n"
     ]
    }
   ],
   "source": [
    "def get_cumulative(arr):\n",
    "    daily_return = []\n",
    "    prev_return = arr[0]\n",
    "    for i in range(1,len(arr)):\n",
    "        daily_return.append((arr[i]-arr[i-1])/arr[i-1])\n",
    "    tmp = [k+1 for k in daily_return]\n",
    "    return np.cumprod(tmp) - 1\n",
    "\n",
    "f_ftse = pd.read_csv('FTSE100.csv')\n",
    "ftse_date,ftse_index = f_ftse['Date'].astype('datetime64[ns]') ,f_ftse['Adj Close']\n",
    "newftse_index = list(ftse_index[::-1])\n",
    "\n",
    "a,b = get_cumulative(price),get_cumulative(newftse_index)\n",
    "\n",
    "ftse_date = ftse_date[::-1]\n",
    "newa = [(100+k) for k in a]\n",
    "newb = [(100+k) for k in b]\n",
    "newa.insert(0,100)\n",
    "newb.insert(0,100)\n",
    "\n",
    "plt.plot_date(time,newa,label='Cumulative Return From House Market',color='orange')\n",
    "plt.plot_date(ftse_date,newb,label='FTSE Index',color='green')\n",
    "plt.legend()\n",
    "plt.xlabel(\"Year\")\n",
    "plt.ylabel(\"Cumulative return\")\n",
    "plt.show()\n",
    "\n",
    "# print(newb)\n",
    "\n",
    "# print(newb)\n",
    "art2 = []\n",
    "for i in range (12,len(newb)):\n",
    "#     print(((newb[i]-newb[i-12])/newb[i-12]))\n",
    "    art2.append((newftse_index[i]-newftse_index[i-12])/newftse_index[i-12])\n",
    "print(np.mean(art2))"
   ]
  },
  {
   "cell_type": "markdown",
   "metadata": {
    "pycharm": {
     "name": "#%%\n"
    }
   },
   "source": [
    "### ANSWER 5\n",
    "\n",
    "- Average Anualized Return from the FTSE100 = 0.0498159299296903\n",
    "- It would be better if invested housing at that time"
   ]
  },
  {
   "cell_type": "code",
   "execution_count": null,
   "metadata": {},
   "outputs": [],
   "source": []
  }
 ],
 "metadata": {
  "kernelspec": {
   "display_name": "Python 3",
   "language": "python",
   "name": "python3"
  },
  "language_info": {
   "codemirror_mode": {
    "name": "ipython",
    "version": 3
   },
   "file_extension": ".py",
   "mimetype": "text/x-python",
   "name": "python",
   "nbconvert_exporter": "python",
   "pygments_lexer": "ipython3",
   "version": "3.7.3"
  },
  "pycharm": {
   "stem_cell": {
    "cell_type": "raw",
    "metadata": {
     "collapsed": false
    },
    "source": []
   }
  }
 },
 "nbformat": 4,
 "nbformat_minor": 2
}
