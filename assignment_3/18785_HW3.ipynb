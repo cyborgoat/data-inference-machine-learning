{
 "cells": [
  {
   "cell_type": "markdown",
   "metadata": {},
   "source": [
    "# CARNEGIE MELLON UNIVERSITY\n",
    "\n",
    "**Name**: Junxiao Guo\n",
    "\n",
    "**Andrew ID**: junxiaog\n",
    "\n",
    "**Course**: DATA, INFERENCE & APPLIED MACHINE LEARNING (COURSE 18-785)\n",
    "\n",
    "**ASSIGNMENT 3**"
   ]
  },
  {
   "cell_type": "code",
   "execution_count": 8,
   "metadata": {
    "pycharm": {
     "is_executing": false
    }
   },
   "outputs": [
    {
     "name": "stdout",
     "output_type": "stream",
     "text": [
      "Requirement already satisfied: numpy in /Users/robert/anaconda3/lib/python3.7/site-packages (1.17.2)\n",
      "Requirement already satisfied: pandas in /Users/robert/anaconda3/lib/python3.7/site-packages (0.25.1)\n",
      "Requirement already satisfied: python-dateutil>=2.6.1 in /Users/robert/anaconda3/lib/python3.7/site-packages (from pandas) (2.8.0)\n",
      "Requirement already satisfied: pytz>=2017.2 in /Users/robert/anaconda3/lib/python3.7/site-packages (from pandas) (2019.2)\n",
      "Requirement already satisfied: numpy>=1.13.3 in /Users/robert/anaconda3/lib/python3.7/site-packages (from pandas) (1.17.2)\n",
      "Requirement already satisfied: six>=1.5 in /Users/robert/anaconda3/lib/python3.7/site-packages (from python-dateutil>=2.6.1->pandas) (1.12.0)\n",
      "Requirement already satisfied: matplotlib in /Users/robert/anaconda3/lib/python3.7/site-packages (3.1.1)\n",
      "Requirement already satisfied: cycler>=0.10 in /Users/robert/anaconda3/lib/python3.7/site-packages (from matplotlib) (0.10.0)\n",
      "Requirement already satisfied: kiwisolver>=1.0.1 in /Users/robert/anaconda3/lib/python3.7/site-packages (from matplotlib) (1.1.0)\n",
      "Requirement already satisfied: pyparsing!=2.0.4,!=2.1.2,!=2.1.6,>=2.0.1 in /Users/robert/anaconda3/lib/python3.7/site-packages (from matplotlib) (2.4.2)\n",
      "Requirement already satisfied: python-dateutil>=2.1 in /Users/robert/anaconda3/lib/python3.7/site-packages (from matplotlib) (2.8.0)\n",
      "Requirement already satisfied: numpy>=1.11 in /Users/robert/anaconda3/lib/python3.7/site-packages (from matplotlib) (1.17.2)\n",
      "Requirement already satisfied: six in /Users/robert/anaconda3/lib/python3.7/site-packages (from cycler>=0.10->matplotlib) (1.12.0)\n",
      "Requirement already satisfied: setuptools in /Users/robert/anaconda3/lib/python3.7/site-packages (from kiwisolver>=1.0.1->matplotlib) (41.2.0)\n",
      "Requirement already satisfied: scipy in /Users/robert/anaconda3/lib/python3.7/site-packages (1.3.1)\n"
     ]
    }
   ],
   "source": [
    "%config IPCompleter.greedy=True\n",
    "!pip install numpy\n",
    "!pip install pandas\n",
    "!pip install matplotlib\n",
    "!pip install scipy\n",
    "import numpy as np\n",
    "import pandas as pd\n",
    "import matplotlib.pyplot as plt\n",
    "import scipy\n",
    "from scipy import stats\n",
    "import matplotlib.dates as mdates\n"
   ]
  },
  {
   "cell_type": "markdown",
   "metadata": {},
   "source": [
    "## Quesiont 1"
   ]
  },
  {
   "cell_type": "code",
   "execution_count": 9,
   "metadata": {
    "pycharm": {
     "is_executing": false
    }
   },
   "outputs": [
    {
     "name": "stdout",
     "output_type": "stream",
     "text": [
      "Mean: 6753.636363636364\n",
      "Standard Deviation: 1088.9717646166182\n",
      "Standard Error of the Mean: 344.3631083801271\n",
      "Degrees of Freedom: 10  \n",
      "t-statistic: -2.8207540608310198 \n",
      "P Value:0.018137235176105812  \n"
     ]
    }
   ],
   "source": [
    "hypo_mean = 7725\n",
    "calorie_stat = np.array([5260, 5470, 5640, 6180, 6390, 6515, 6805, 7515, 7515, 8230, 8770])\n",
    "sample_mean,sample_std,sample_ste = np.mean(calorie_stat),np.std(calorie_stat),stats.sem(calorie_stat)\n",
    "# t_stat,pval = stats.ttest_1samp(calorie_stat,ret_mean)\n",
    "# t_stat = np.abs(sample_mean - hypo_mean) / ((sample_std)/np.sqrt(len(calorie_stat)))\n",
    "dof = len(calorie_stat)-1\n",
    "# pval =2*(1 - stats.t.cdf(calorie_stat,df=dof))\n",
    "\n",
    "t_stat,pval = stats.ttest_1samp(calorie_stat,hypo_mean)\n",
    "\n",
    "print(\"Mean: {}\\nStandard Deviation: {}\\nStandard Error of the Mean: {}\".format(sample_mean,sample_std,sample_ste))\n",
    "print(\"Degrees of Freedom: {}  \\nt-statistic: {} \\nP Value:{}  \".format(dof,t_stat,pval))\n",
    "# reject = True if t_stat == pval else False\n"
   ]
  },
  {
   "cell_type": "markdown",
   "metadata": {},
   "source": [
    "### Answer 1\n",
    "\n",
    "- Mean: 6753.636363636364\n",
    "\n",
    "- Standard Deviation: 1088.9717646166182\n",
    "\n",
    "- Standard Error of the Mean: 344.3631083801271\n",
    "\n",
    "- Degrees of Freedom: 10  \n",
    "\n",
    "- t-statistic: -2.8207540608310198 \n",
    "\n",
    "- P Value:0.018137235176105812  \n",
    "\n",
    "- Since the data comes from a normal distribution, and the mean value is about 6753KJ (which is smaller than 7725KJ), a **left tail test** is appropriate.\n",
    "- Because the P value is pretty small, the null hypothesis should be rejected.\n",
    "\n"
   ]
  },
  {
   "cell_type": "markdown",
   "metadata": {},
   "source": [
    "## Question 2"
   ]
  },
  {
   "cell_type": "code",
   "execution_count": 10,
   "metadata": {
    "pycharm": {
     "is_executing": false
    }
   },
   "outputs": [
    {
     "name": "stdout",
     "output_type": "stream",
     "text": [
      "t-score: 11.647653131319812 \n",
      "p-value: 2.315890162874227e-19\n"
     ]
    }
   ],
   "source": [
    "class Ireland():\n",
    "    def __init__(self):\n",
    "        self.sample_size = 42\n",
    "        self.mean = 74\n",
    "        self.std = 7.4\n",
    "class Elsewhere():\n",
    "    def __init__(self):\n",
    "        self.sample_size = 61\n",
    "        self.mean = 57\n",
    "        self.std = 7.1\n",
    "        \n",
    "ire = Ireland()\n",
    "elsw = Elsewhere()\n",
    "t, p = scipy.stats.ttest_ind_from_stats(mean1=ire.mean,mean2=elsw.mean,std1=ire.std,std2=elsw.std,nobs1=ire.sample_size,nobs2=elsw.sample_size,equal_var=False)\n",
    "### With formula\n",
    "t2 = (ire.mean-elsw.mean)/(np.sqrt((np.power(ire.std,2)/ire.sample_size)+(np.power(elsw.std,2)/elsw.sample_size)))\n",
    "\n",
    "assert t == t2 , 't score are not the same!'\n",
    "print(\"t-score: {} \\np-value: {}\".format(t,p))\n",
    "\n",
    "\n",
    " "
   ]
  },
  {
   "cell_type": "markdown",
   "metadata": {
    "pycharm": {
     "name": "#%% md\n"
    }
   },
   "source": [
    "### Answer 2\n",
    "\n",
    "- t-score: 11.647653131319812 \n",
    "- p-value: 2.315890162874227e-19\n",
    "- A **two-sample test** is appropriate since  the GOES of Ireland and Elsewhere are independent to each other.\n",
    "- A right tail is appropriate since the test is about test if the GOES in Irish pub tastes **significantly better** than elsewhere around the globe."
   ]
  },
  {
   "cell_type": "markdown",
   "metadata": {},
   "source": [
    "\n",
    "## Question 3"
   ]
  },
  {
   "cell_type": "code",
   "execution_count": 11,
   "metadata": {
    "pycharm": {
     "is_executing": false,
     "name": "#%%\n"
    }
   },
   "outputs": [
    {
     "name": "stdout",
     "output_type": "stream",
     "text": [
      "                gdp  fertility\n",
      "gdp        1.000000  -0.537393\n",
      "fertility -0.537393   1.000000\n"
     ]
    },
    {
     "data": {
      "image/png": "[encoded data removed]",
      "text/plain": [
       "<Figure size 432x288 with 1 Axes>"
      ]
     },
     "metadata": {
      "needs_background": "light"
     },
     "output_type": "display_data"
    }
   ],
   "source": [
    "from scipy.stats import pearsonr\n",
    "\n",
    "f_gdp = pd.read_csv('API_NY.GDP.PCAP.PP.CD_DS2_en_csv_v2_151039/API_NY.GDP.PCAP.PP.CD_DS2_en_csv_v2_151039.csv',skiprows=4)\n",
    "f_fert = pd.read_csv('API_SP.DYN.TFRT.IN_DS2_en_csv_v2_153225/API_SP.DYN.TFRT.IN_DS2_en_csv_v2_153225.csv',skiprows=4)\n",
    "codeArr = f_gdp['Country Code']\n",
    "assert list(f_gdp['Country Code']) == list(f_fert['Country Code']), \"Country Code doesn't match\"\n",
    "gdp,fertility = f_gdp['2013'],f_fert['2013']\n",
    "newdata = {\"gdp\":gdp,\"fertility\":fertility}\n",
    "newdf = pd.DataFrame(newdata)\n",
    "coef = newdf.corr()\n",
    "print(coef)\n",
    "assert len(gdp) == len(fertility), \"lengh of two arrays has changed\"\n",
    "for i,j in zip(gdp,fertility):\n",
    "    plt.scatter(i,j,marker='.')\n",
    "plt.ylabel('Fertility rate, total (births per woman)')\n",
    "plt.xlabel('GDP per capita PPP (current international $)')\n",
    "plt.show()\n",
    "assert len(gdp) == len(fertility), '2013 stat lenght are not the same'\n",
    "gdp_mean,fert_mean = np.mean(gdp),np.mean(fertility)\n",
    "gdp_std,fert_std = np.std(gdp),np.std(fertility)\n",
    "corr_coefficient = (1/(len(gdp)))*np.sum((gdp-gdp_mean)*(fertility-fert_mean))\n"
   ]
  },
  {
   "cell_type": "markdown",
   "metadata": {
    "pycharm": {
     "is_executing": false,
     "name": "#%% md\n"
    }
   },
   "source": [
    "## Answer 3\n",
    "\n",
    "- Correlation Coefficient = -0.537393\n",
    "- Interpolation: The result is showing a **Negative Correlation** which menas the higher rate of fertility somehow leads to lower GDP percapita and vise versa.\n",
    " "
   ]
  },
  {
   "cell_type": "markdown",
   "metadata": {},
   "source": [
    "\n",
    "## Question 4"
   ]
  },
  {
   "cell_type": "code",
   "execution_count": 12,
   "metadata": {
    "pycharm": {
     "is_executing": false,
     "name": "#%%\n"
    }
   },
   "outputs": [
    {
     "data": {
      "image/png": "[encoded data removed]",
      "text/plain": [
       "<Figure size 432x288 with 1 Axes>"
      ]
     },
     "metadata": {
      "needs_background": "light"
     },
     "output_type": "display_data"
    },
    {
     "data": {
      "image/png": "[encoded data removed]",
      "text/plain": [
       "<Figure size 432x288 with 1 Axes>"
      ]
     },
     "metadata": {
      "needs_background": "light"
     },
     "output_type": "display_data"
    },
    {
     "name": "stdout",
     "output_type": "stream",
     "text": [
      "0.057661230215616824\n"
     ]
    }
   ],
   "source": [
    "f_monthly = pd.read_excel('monthly.xls',sheet_name='Monthly')\n",
    "time,price = f_monthly['Unnamed: 0'],f_monthly['Average House Price']\n",
    "pos = f_monthly.loc[f_monthly['Unnamed: 0'] == '2016-12-01'].index[0]\n",
    "time,price = time[:pos+1],price[:pos+1]\n",
    "plt.plot_date(time,price,'-')\n",
    "plt.xlabel(\"Year\")\n",
    "plt.ylabel(\"Average house price in pounds sterling (£)\")\n",
    "plt.show()\n",
    "\n",
    "###########\n",
    "mrt = []\n",
    "for i in range (1,len(price)):\n",
    "    mrt.append((price[i]-price[i-1])/price[i-1])\n",
    "\n",
    "from statsmodels.graphics.tsaplots import plot_acf\n",
    "from statsmodels.graphics.tsaplots import plot_pacf\n",
    "plot_acf(np.array(mrt),lags=20,alpha=0.05)\n",
    "plt.xlabel(\"Lags\")\n",
    "plt.show()\n",
    "\n",
    "\n",
    "\n",
    "art = []\n",
    "for i in range (12,len(price)):\n",
    "    art.append((price[i]-price[i-12])/price[i-12])\n",
    "print(np.mean(art))\n"
   ]
  },
  {
   "cell_type": "markdown",
   "metadata": {
    "pycharm": {
     "is_executing": false,
     "name": "#%% md\n"
    }
   },
   "source": [
    "## ANSWER 4\n",
    "\n",
    "Anualized Return = 0.057661230215616824\n",
    "\n"
   ]
  },
  {
   "cell_type": "markdown",
   "metadata": {},
   "source": [
    "## Question 5\n"
   ]
  },
  {
   "cell_type": "code",
   "execution_count": 16,
   "metadata": {
    "pycharm": {
     "is_executing": false,
     "name": "#%%\n"
    },
    "scrolled": true
   },
   "outputs": [
    {
     "data": {
      "image/png": "[encoded data removed]",
      "text/plain": [
       "<Figure size 432x288 with 1 Axes>"
      ]
     },
     "metadata": {
      "needs_background": "light"
     },
     "output_type": "display_data"
    },
    {
     "name": "stdout",
     "output_type": "stream",
     "text": [
      "0.049795705717542146\n"
     ]
    }
   ],
   "source": [
    "def get_cumulative(arr):\n",
    "    daily_return = []\n",
    "    prev_return = arr[0]\n",
    "    for i in range(1,len(arr)):\n",
    "        daily_return.append((arr[i]-arr[i-1])/arr[i-1])\n",
    "    tmp = [k+1 for k in daily_return]\n",
    "    return np.cumprod(tmp) - 1\n",
    "\n",
    "f_ftse = pd.read_csv('FTSE100.csv')\n",
    "ftse_date,ftse_index = f_ftse['Date'].astype('datetime64[ns]') ,f_ftse['Adj Close']\n",
    "newftse_index = list(ftse_index[::-1])\n",
    "\n",
    "a,b = get_cumulative(price),get_cumulative(newftse_index)\n",
    "\n",
    "ftse_date = ftse_date[::-1]\n",
    "newa = [(100+k) for k in a]\n",
    "newb = [(100+k) for k in b]\n",
    "newa = [(k/a[0])*100 for k in a]\n",
    "newb = [(k/b[0])*100 for k in b]\n",
    "\n",
    "\n",
    "# newa.insert(0,100)\n",
    "# newb.insert(0,100)\n",
    "\n",
    "plt.plot_date(time[1:],newa,label='Cumulative Return From House Market',color='orange')\n",
    "plt.plot_date(ftse_date[1:],newb,label='FTSE Index',color='green')\n",
    "plt.legend()\n",
    "plt.xlabel(\"Year\")\n",
    "plt.ylabel(\"Cumulative return\")\n",
    "plt.show()\n",
    "\n",
    "# print(newb)\n",
    "\n",
    "# print(newb)\n",
    "art2 = []\n",
    "for i in range (12,len(newb)):\n",
    "#     print(((newb[i]-newb[i-12])/newb[i-12]))\n",
    "    art2.append((newftse_index[i]-newftse_index[i-12])/newftse_index[i-12])\n",
    "print(np.mean(art2))"
   ]
  },
  {
   "cell_type": "markdown",
   "metadata": {
    "pycharm": {
     "name": "#%%\n"
    }
   },
   "source": [
    "### ANSWER 5\n",
    "\n",
    "- Average Anualized Return from the FTSE100 = 0.0498159299296903\n",
    "- It would be better if invested housing at that time"
   ]
  },
  {
   "cell_type": "code",
   "execution_count": null,
   "metadata": {},
   "outputs": [],
   "source": []
  }
 ],
 "metadata": {
  "kernelspec": {
   "display_name": "Python 3",
   "language": "python",
   "name": "python3"
  },
  "language_info": {
   "codemirror_mode": {
    "name": "ipython",
    "version": 3
   },
   "file_extension": ".py",
   "mimetype": "text/x-python",
   "name": "python",
   "nbconvert_exporter": "python",
   "pygments_lexer": "ipython3",
   "version": "3.7.3"
  },
  "pycharm": {
   "stem_cell": {
    "cell_type": "raw",
    "metadata": {
     "collapsed": false
    },
    "source": []
   }
  }
 },
 "nbformat": 4,
 "nbformat_minor": 2
}
