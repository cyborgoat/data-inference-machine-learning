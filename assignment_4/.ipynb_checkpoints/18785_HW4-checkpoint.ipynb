{
 "cells": [
  {
   "cell_type": "markdown",
   "metadata": {},
   "source": [
    "# CARNEGIE MELLON UNIVERSITY\n",
    "\n",
    "**Name**: Junxiao Guo\n",
    "\n",
    "**Andrew ID**: junxiaog\n",
    "\n",
    "**Course**: DATA, INFERENCE & APPLIED MACHINE LEARNING (COURSE 18-785)\n",
    "\n",
    "**ASSIGNMENT 4**"
   ]
  },
  {
   "cell_type": "code",
   "execution_count": 1,
   "metadata": {},
   "outputs": [],
   "source": [
    "# %config IPCompleter.greedy=True\n",
    "# !pip install numpy\n",
    "# !pip install pandas\n",
    "# !pip install matplotlib\n",
    "# !pip install scipy\n",
    "# !pip install sklearn\n",
    "# !pip install seaborn"
   ]
  },
  {
   "cell_type": "code",
   "execution_count": 2,
   "metadata": {},
   "outputs": [],
   "source": [
    "import numpy as np\n",
    "import pandas as pd\n",
    "import matplotlib.pyplot as plt\n",
    "import scipy\n",
    "from scipy import stats\n",
    "import matplotlib.dates as mdates \n",
    "import seaborn as seabornInstance \n",
    "import sklearn\n",
    "from sklearn.model_selection import train_test_split \n",
    "from sklearn.linear_model import LinearRegression\n",
    "from sklearn import linear_model\n",
    "from sklearn import metrics\n",
    "import sys\n",
    "import datetime as dt\n",
    "from sklearn.preprocessing import PolynomialFeatures\n",
    "%matplotlib inline\n"
   ]
  },
  {
   "cell_type": "markdown",
   "metadata": {},
   "source": [
    "## Question 1"
   ]
  },
  {
   "cell_type": "code",
   "execution_count": 3,
   "metadata": {},
   "outputs": [],
   "source": [
    "def get_monthly_retrun(inputarr):\n",
    "    mr = []\n",
    "    for i in range(1,len(inputarr)):\n",
    "        mr.append((inputarr[i]-inputarr[i-1])/inputarr[i-1])\n",
    "    return np.array(mr)\n",
    "    "
   ]
  },
  {
   "cell_type": "code",
   "execution_count": 4,
   "metadata": {},
   "outputs": [
    {
     "name": "stdout",
     "output_type": "stream",
     "text": [
      "312 312\n",
      "(311, 1) (311, 1)\n",
      "Interception:  [-0.00266911]\n",
      "Correlation Coefficient: [[-0.03666445]]\n"
     ]
    },
    {
     "data": {
      "image/png": "[encoded data removed]",
      "text/plain": [
       "<Figure size 432x288 with 1 Axes>"
      ]
     },
     "metadata": {
      "needs_background": "light"
     },
     "output_type": "display_data"
    }
   ],
   "source": [
    "f_monthly = pd.read_excel('monthly.xls',sheet_name='Monthly')\n",
    "f_ftse = pd.read_csv('FTSE100.csv')\n",
    "house_date,house_price = f_monthly['Unnamed: 0'],f_monthly['Average House Price']\n",
    "housepos = f_monthly.loc[f_monthly['Unnamed: 0'] == '2016-12-01'].index[0]\n",
    "house_date,house_price = house_date[:housepos+1],house_price[:housepos+1]\n",
    "ftse_date,ftse_index = f_ftse['Date'].astype('datetime64[ns]') ,f_ftse['Adj Close']\n",
    "# FTSE monthly return\n",
    "ftse_list = np.array(ftse_index)\n",
    "house_list = np.array(house_price)\n",
    "print(len(ftse_list),len(house_list))\n",
    "ftse_mr,house_mr = get_monthly_retrun(ftse_list),get_monthly_retrun(house_list)\n",
    "\n",
    "Y = ftse_mr.reshape(-1,1)  # Dependent variable\n",
    "X = house_mr.reshape(-1,1) # Explanatory Variable\n",
    "print(X.shape,Y.shape)\n",
    "# X_train, X_test, y_train, y_test = train_test_split(X, Y, test_size=0.2, random_state=0)\n",
    "regressor = LinearRegression()  \n",
    "regressor.fit(X, Y) #training the algorithm\n",
    "#To retrieve the intercept:\n",
    "print(\"Interception: \",regressor.intercept_)\n",
    "#For retrieving the slope:\n",
    "print(\"Correlation Coefficient:\",regressor.coef_)\n",
    "\n",
    "y_pred = regressor.predict(X)\n",
    "plt.scatter(X, Y,  color='gray')\n",
    "plt.plot(X, y_pred, color='red', linewidth=2)\n",
    "plt.show()\n"
   ]
  },
  {
   "cell_type": "markdown",
   "metadata": {},
   "source": [
    "## Answer 1"
   ]
  },
  {
   "cell_type": "markdown",
   "metadata": {},
   "source": [
    "### I. What do the result tell us\n",
    "\n",
    "### II. Hypothsis to bakcup conclusion about existence of a signifcant relationship between these two variables"
   ]
  },
  {
   "cell_type": "code",
   "execution_count": null,
   "metadata": {},
   "outputs": [],
   "source": []
  },
  {
   "cell_type": "markdown",
   "metadata": {},
   "source": [
    "## Question 2"
   ]
  },
  {
   "cell_type": "code",
   "execution_count": 5,
   "metadata": {},
   "outputs": [
    {
     "name": "stdout",
     "output_type": "stream",
     "text": [
      "********* Correlation coefficients of the variables *********\n",
      "               Apps    Enroll  Outstate  Top10perc  Top25perc\n",
      "Apps       1.000000  0.846822  0.050159   0.338834   0.351640\n",
      "Enroll     0.846822  1.000000 -0.155477   0.181294   0.226745\n",
      "Outstate   0.050159 -0.155477  1.000000   0.562331   0.489394\n",
      "Top10perc  0.338834  0.181294  0.562331   1.000000   0.891995\n",
      "Top25perc  0.351640  0.226745  0.489394   0.891995   1.000000\n"
     ]
    }
   ],
   "source": [
    "college_info = pd.read_csv('College.csv')\n",
    "college_info.rename(columns={\"Unnamed: 0\":\"Name\"})\n",
    "newdf = college_info[[\"Apps\",\"Enroll\",\"Outstate\",\"Top10perc\",\"Top25perc\"]].copy()\n",
    "print(\"********* Correlation coefficients of the variables *********\")\n",
    "print(newdf.corr()) # Correlation Coeficient"
   ]
  },
  {
   "cell_type": "code",
   "execution_count": 6,
   "metadata": {},
   "outputs": [],
   "source": [
    "# b) StepWise linear regression Model\n",
    "# c) Which predictor variables are useful in predicting the graduation rate? Exxplain how you got those variables.\n",
    "# d) Would the set of predictor variables be useful in predicting the graduation reate if you\n",
    "#    werer to use BIC to select the model? Why?\n",
    "# e) Compare the accurate of the model using only useful predictors with the one of the model using \n",
    "#    all five predictors?\n",
    "# f) Given a set of predictor corresponding to CMU, what graduation rate value should the moset accurate model predict?\n",
    "\n"
   ]
  },
  {
   "cell_type": "markdown",
   "metadata": {},
   "source": [
    "## Question 3"
   ]
  },
  {
   "cell_type": "markdown",
   "metadata": {},
   "source": [
    "### Data Set\n",
    "\n",
    "[City of Chicago Speed Camera Violations](https://catalog.data.gov/dataset/speed-camera-violations-997eb) from data.gov\n",
    "\n",
    "### My Assumption\n",
    "\n",
    "\n",
    "### Methology\n",
    "\n",
    "\n"
   ]
  },
  {
   "cell_type": "code",
   "execution_count": 59,
   "metadata": {},
   "outputs": [
    {
     "data": {
      "image/png": "[encoded data removed]",
      "text/plain": [
       "<Figure size 432x288 with 1 Axes>"
      ]
     },
     "metadata": {
      "needs_background": "light"
     },
     "output_type": "display_data"
    },
    {
     "data": {
      "image/png": "[encoded data removed]",
      "text/plain": [
       "<Figure size 432x288 with 1 Axes>"
      ]
     },
     "metadata": {
      "needs_background": "light"
     },
     "output_type": "display_data"
    }
   ],
   "source": [
    "##### DATA INITIALIZATION #####\n",
    "scvdf = pd.read_csv(\"Speed_Camera_Violations.csv\")\n",
    "scvdf[\"VIOLATION DATE\"] = pd.to_datetime(scvdf[\"VIOLATION DATE\"])\n",
    "violate_date = np.array(scvdf[\"VIOLATION DATE\"].map(dt.datetime.toordinal)).reshape(-1,1)\n",
    "violate_cnt = np.array(scvdf[\"VIOLATIONS\"])\n",
    "start = 0\n",
    "violate_mean = []\n",
    "adjusted_timestamp = []\n",
    "adjusted_time = []\n",
    "for i in range(30,len(violate_cnt),30):\n",
    "    violate_mean.append(violate_cnt[start:i].mean())\n",
    "    adjusted_timestamp.append(violate_date[i-30])\n",
    "    adjusted_time.append(dt.datetime.fromordinal(violate_date[i-30]))\n",
    "##### Split the portion for Training and Testing #####\n",
    "TRAIN_PORTION = 0.3\n",
    "train_len = int(len(violate_mean) * TRAIN_PORTION) # Set the portion for training\n",
    "test_len = len(violate_mean) - train_len # The rest portion for testing\n",
    "Y_train = violate_mean[train_len:]  \n",
    "X_train = adjusted_timestamp[train_len:] \n",
    "Y_test = violate_mean[:train_len]  \n",
    "X_test = adjusted_timestamp[:train_len]\n",
    "regressor = LinearRegression()  \n",
    "regressor.fit(X_train, Y_train) #training the algorithm\n",
    "##### TRAIN #####\n",
    "Y_pred = regressor.predict(X_train)\n",
    "plt.scatter(X_train, Y_train,  color='gray',label=\"Training Dataset\")\n",
    "pred_date = [dt.datetime.fromordinal(i) for i in X_train]\n",
    "train_date = [dt.datetime.fromordinal(i) for i in X_train]\n",
    "plt.plot(train_date, Y_pred, color='green', linewidth=2,label=\"Trained Model\")\n",
    "plt.xlabel(\"Time\")\n",
    "plt.ylabel(\"Monthly Average Speed Violations \\n in City of Chicago\")\n",
    "plt.xticks(rotation=30)\n",
    "plt.title(\"Trained Model using Linear Regression\")\n",
    "plt.legend()\n",
    "plt.show()\n",
    "##### TEST #####\n",
    "Y_pred = regressor.predict(X_test)\n",
    "plt.scatter(X_test, Y_test,  color='orange',label='Test Dataset')\n",
    "pred_date = [dt.datetime.fromordinal(i) for i in X_test]\n",
    "train_date = [dt.datetime.fromordinal(i) for i in X_train]\n",
    "plt.plot(pred_date, Y_pred, color='green', linewidth=2, label=\"Trained Model\")\n",
    "plt.xlabel(\"Time\")\n",
    "plt.ylabel(\"Monthly Average Speed Violations \\n in City of Chicago\")\n",
    "plt.title(\"Test Result by Using Trained Model\")\n",
    "plt.xticks(rotation=30)\n",
    "plt.show()\n",
    "\n"
   ]
  },
  {
   "cell_type": "markdown",
   "metadata": {},
   "source": [
    "## Question 4"
   ]
  },
  {
   "cell_type": "code",
   "execution_count": null,
   "metadata": {},
   "outputs": [],
   "source": [
    "\n",
    "isr_lur = pd.read_csv(\"ODA-ISR_LUR.csv\")\n",
    "endpos = isr_lur.loc[isr_lur['Date'] == '2013-12-31'].index[0]\n",
    "endpos_2020 = isr_lur.loc[isr_lur['Date'] == '2020-12-31'].index[0]\n",
    "date_to_2020 = np.array(pd.to_datetime(isr_lur.tail(len(isr_lur)-endpos_2020)['Date']).map(dt.datetime.toordinal)).reshape(-1,1)\n",
    "# print(date_to_2020)\n",
    "isr_lur = isr_lur.tail(len(isr_lur)-endpos)\n",
    "isr_lur['Date'] = pd.to_datetime(isr_lur['Date'])\n",
    "isr_lur_val = np.array(isr_lur['Value'])\n",
    "\n",
    "plt.plot(isr_lur['Date'], isr_lur_val, color='red', linewidth=2)\n",
    "plt.show()\n",
    "isr_lur_date = np.array(isr_lur['Date'].map(dt.datetime.toordinal))\n",
    "\n",
    "\n",
    "\n",
    "X = isr_lur_date.reshape(-1,1)  # Dependent variable\n",
    "Y = isr_lur_val.reshape(-1,1) # Explanatory Variable\n",
    "# X_train, X_test, y_train, y_test = train_test_split(X, Y, test_size=0.9, random_state=0)\n",
    "X_train, Y_train = X,Y\n",
    "\n",
    "regressor = LinearRegression()  \n",
    "# regressor = linear_model.Ridge(alpha=.1)\n",
    "regressor.fit(X_train, Y_train) #training the algorithm\n",
    "#To retrieve the intercept:\n",
    "print(\"Interception: \",regressor.intercept_)\n",
    "print(\"Correlation Coefficient:\",regressor.coef_)\n",
    "y_pred = regressor.predict(date_to_2020)\n",
    "x_date = [dt.datetime.fromordinal(i) for i in date_to_2020]\n",
    "plt.plot(x_date, y_pred, color='red', linewidth=2)\n",
    "plt.xlabel(\"Year\")\n",
    "plt.ylabel(\"Predicted Israel Unemployment Rate\\n (% of Total Labor Force)\")\n",
    "plt.show()\n"
   ]
  },
  {
   "cell_type": "code",
   "execution_count": null,
   "metadata": {},
   "outputs": [],
   "source": []
  }
 ],
 "metadata": {
  "kernelspec": {
   "display_name": "Python 3",
   "language": "python",
   "name": "python3"
  },
  "language_info": {
   "codemirror_mode": {
    "name": "ipython",
    "version": 3
   },
   "file_extension": ".py",
   "mimetype": "text/x-python",
   "name": "python",
   "nbconvert_exporter": "python",
   "pygments_lexer": "ipython3",
   "version": "3.7.3"
  }
 },
 "nbformat": 4,
 "nbformat_minor": 2
}
