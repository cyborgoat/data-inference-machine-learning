{
 "cells": [
  {
   "cell_type": "markdown",
   "metadata": {},
   "source": [
    "# CARNEGIE MELLON UNIVERSITY\n",
    "\n",
    "**Name**: Junxiao Guo\n",
    "\n",
    "**Andrew ID**: junxiaog\n",
    "\n",
    "**Course**: DATA, INFERENCE & APPLIED MACHINE LEARNING (COURSE 18-785)\n",
    "\n",
    "**ASSIGNMENT 4**"
   ]
  },
  {
   "cell_type": "code",
   "execution_count": 1,
   "metadata": {},
   "outputs": [
    {
     "name": "stdout",
     "output_type": "stream",
     "text": [
      "Requirement already satisfied: sklearn in /Users/robert/anaconda3/lib/python3.7/site-packages (0.0)\n",
      "Requirement already satisfied: scikit-learn in /Users/robert/anaconda3/lib/python3.7/site-packages (from sklearn) (0.21.3)\n",
      "Requirement already satisfied: scipy>=0.17.0 in /Users/robert/anaconda3/lib/python3.7/site-packages (from scikit-learn->sklearn) (1.3.1)\n",
      "Requirement already satisfied: joblib>=0.11 in /Users/robert/anaconda3/lib/python3.7/site-packages (from scikit-learn->sklearn) (0.13.2)\n",
      "Requirement already satisfied: numpy>=1.11.0 in /Users/robert/anaconda3/lib/python3.7/site-packages (from scikit-learn->sklearn) (1.17.2)\n",
      "Requirement already satisfied: RegscorePy in /Users/robert/anaconda3/lib/python3.7/site-packages (1.1)\n",
      "Requirement already satisfied: pandas in /Users/robert/anaconda3/lib/python3.7/site-packages (from RegscorePy) (0.25.1)\n",
      "Requirement already satisfied: numpy in /Users/robert/anaconda3/lib/python3.7/site-packages (from RegscorePy) (1.17.2)\n",
      "Requirement already satisfied: pytz>=2017.2 in /Users/robert/anaconda3/lib/python3.7/site-packages (from pandas->RegscorePy) (2019.2)\n",
      "Requirement already satisfied: python-dateutil>=2.6.1 in /Users/robert/anaconda3/lib/python3.7/site-packages (from pandas->RegscorePy) (2.8.0)\n",
      "Requirement already satisfied: six>=1.5 in /Users/robert/anaconda3/lib/python3.7/site-packages (from python-dateutil>=2.6.1->pandas->RegscorePy) (1.12.0)\n"
     ]
    }
   ],
   "source": [
    "# %config IPCompleter.greedy=True\n",
    "# !pip install numpy\n",
    "# !pip install pandas\n",
    "# !pip install matplotlib\n",
    "# !pip install scipy\n",
    "!pip install sklearn\n",
    "# !pip install seaborn\n",
    "!pip install RegscorePy"
   ]
  },
  {
   "cell_type": "code",
   "execution_count": 2,
   "metadata": {},
   "outputs": [],
   "source": [
    "import numpy as np\n",
    "import pandas as pd\n",
    "import matplotlib.pyplot as plt\n",
    "import scipy\n",
    "from scipy import stats\n",
    "import matplotlib.dates as mdates \n",
    "import seaborn as seabornInstance \n",
    "import sys\n",
    "import datetime as dt\n",
    "import numpy as np\n",
    "import sklearn\n",
    "from sklearn.preprocessing import PolynomialFeatures\n",
    "from sklearn.model_selection import train_test_split \n",
    "from sklearn.linear_model import LinearRegression\n",
    "from sklearn import linear_model\n",
    "from sklearn import metrics\n",
    "from sklearn                        import metrics, svm\n",
    "from sklearn.linear_model           import LogisticRegression\n",
    "from sklearn import preprocessing\n",
    "from sklearn import utils\n",
    "from sklearn.svm import SVR\n",
    "from sklearn import preprocessing\n",
    "from sklearn import utils\n",
    "%matplotlib inline\n"
   ]
  },
  {
   "cell_type": "markdown",
   "metadata": {},
   "source": [
    "## Question 1"
   ]
  },
  {
   "cell_type": "code",
   "execution_count": 3,
   "metadata": {},
   "outputs": [],
   "source": [
    "def get_monthly_retrun(inputarr):\n",
    "    mr = []\n",
    "    for i in range(1,len(inputarr)):\n",
    "        mr.append((inputarr[i]-inputarr[i-1])/inputarr[i-1])\n",
    "    return np.array(mr)"
   ]
  },
  {
   "cell_type": "code",
   "execution_count": 4,
   "metadata": {},
   "outputs": [
    {
     "name": "stdout",
     "output_type": "stream",
     "text": [
      "Interception:  [0.00404784]\n",
      "weights: \n",
      "[[0.09324143]]\n",
      "Correlation Coefficient:0.026551295701909897   p value:0.6409049000032367\n"
     ]
    },
    {
     "data": {
      "image/png": "[encoded data removed]",
      "text/plain": [
       "<Figure size 432x288 with 1 Axes>"
      ]
     },
     "metadata": {
      "needs_background": "light"
     },
     "output_type": "display_data"
    }
   ],
   "source": [
    "f_monthly = pd.read_excel('monthly.xls',sheet_name='Monthly')\n",
    "f_ftse = pd.read_csv('FTSE100.csv')\n",
    "house_date,house_price = f_monthly['Unnamed: 0'],f_monthly['Average House Price']\n",
    "housepos = f_monthly.loc[f_monthly['Unnamed: 0'] == '2016-12-01'].index[0]\n",
    "house_date,house_price = house_date[:housepos+1],house_price[:housepos+1]\n",
    "ftse_date,ftse_index = f_ftse['Date'].astype('datetime64[ns]') ,f_ftse['Adj Close']\n",
    "# FTSE monthly return\n",
    "ftse_list = np.array(ftse_index)[::-1]\n",
    "house_list = np.array(house_price)\n",
    "ftse_mr,house_mr = get_monthly_retrun(ftse_list),get_monthly_retrun(house_list)\n",
    "Y = ftse_mr.reshape(-1,1)  # Dependent variable\n",
    "X = house_mr.reshape(-1,1) # Explanatory Variable\n",
    "# X_train, X_test, y_train, y_test = train_test_split(X, Y, test_size=0.2, random_state=0)\n",
    "regressor = LinearRegression()  \n",
    "regressor.fit(X, Y) #training the algorithm\n",
    "# print(ftse_mr)\n",
    "corr_coef = stats.pearsonr(house_mr, ftse_mr)\n",
    "print(\"Interception: \",regressor.intercept_)\n",
    "print('weights: ')\n",
    "print(regressor.coef_)\n",
    "print(\"Correlation Coefficient:{}   p value:{}\".format(corr_coef[0],corr_coef[1]))\n",
    "y_pred = regressor.predict(X)\n",
    "plt.scatter(X, Y,  color='gray')\n",
    "plt.plot(X, y_pred, color='red', linewidth=2)\n",
    "plt.xlabel(\"house monthly returns\")\n",
    "plt.ylabel(\"FTSE100 index monthly returns\")\n",
    "plt.show()\n"
   ]
  },
  {
   "cell_type": "markdown",
   "metadata": {},
   "source": [
    "## Answer 1"
   ]
  },
  {
   "cell_type": "markdown",
   "metadata": {},
   "source": [
    "### I. What do the result tell us\n",
    "\n",
    "- Since the Correlation Coefficient is very positively small, the result tells us that the FTSE index monthly return does not have a strong relationship between FTSE100 index\n",
    "\n",
    "### II. Hypothsis to bakcup conclusion about existence of a signifcant relationship between these two variables\n",
    "\n",
    "T test on the samples (two sample)"
   ]
  },
  {
   "cell_type": "code",
   "execution_count": 5,
   "metadata": {},
   "outputs": [
    {
     "name": "stdout",
     "output_type": "stream",
     "text": [
      "Ttest_indResult(statistic=0.011406194343330636, pvalue=0.9909030401555481)\n"
     ]
    }
   ],
   "source": [
    "t_result = scipy.stats.ttest_ind(ftse_mr,house_mr)\n",
    "print(t_result)\n"
   ]
  },
  {
   "cell_type": "markdown",
   "metadata": {},
   "source": [
    "## Question 2"
   ]
  },
  {
   "cell_type": "code",
   "execution_count": 6,
   "metadata": {},
   "outputs": [
    {
     "name": "stdout",
     "output_type": "stream",
     "text": [
      "********* Correlation coefficients of the variables *********\n",
      "               Apps    Enroll  Outstate  Top10perc  Top25perc\n",
      "Apps       1.000000  0.846822  0.050159   0.338834   0.351640\n",
      "Enroll     0.846822  1.000000 -0.155477   0.181294   0.226745\n",
      "Outstate   0.050159 -0.155477  1.000000   0.562331   0.489394\n",
      "Top10perc  0.338834  0.181294  0.562331   1.000000   0.891995\n",
      "Top25perc  0.351640  0.226745  0.489394   0.891995   1.000000\n"
     ]
    }
   ],
   "source": [
    "college_info = pd.read_csv('College.csv')\n",
    "college_info = college_info.rename(columns={'Unnamed: 0':'Name'})\n",
    "college_namedf = college_info['Name']\n",
    "newdf = college_info[[\"Apps\",\"Enroll\",\"Outstate\",\"Top10perc\",\"Top25perc\"]].copy()\n",
    "print(\"********* Correlation coefficients of the variables *********\")\n",
    "print(newdf.corr()) # Correlation Coeficient"
   ]
  },
  {
   "cell_type": "code",
   "execution_count": 7,
   "metadata": {},
   "outputs": [],
   "source": [
    "# b) StepWise linear regression Model\n",
    "# c) Which predictor variables are useful in predicting the graduation rate? Exxplain how you got those variables.\n",
    "# d) Would the set of predictor variables be useful in predicting the graduation reate if you\n",
    "#    werer to use BIC to select the model? Why?\n",
    "#   Hint: Perform BIC model on the independent variables\n",
    "# e) Compare the accurate of the model using only useful predictors with the one of the model using \n",
    "#    all five predictors?\n",
    "#   Hint: Identify the predictor vaiables that are usful in the prediction if they are the same as stepwise\n",
    "#   Hint: Cacl the accuracy of the chosen modle using 5 predictor variables\n",
    "# f) Given a set of predictor corresponding to CMU, what graduation rate value should the moset accurate model predict?\n",
    "# . Use the most accurate model\n",
    "\n"
   ]
  },
  {
   "cell_type": "markdown",
   "metadata": {},
   "source": [
    "### b) StepWise linear regression Model"
   ]
  },
  {
   "cell_type": "code",
   "execution_count": 8,
   "metadata": {},
   "outputs": [
    {
     "name": "stdout",
     "output_type": "stream",
     "text": [
      "Add Variable:  Outstate   | p-value 1.6289e-68\n",
      "Add Variable:  Top25perc  | p-value 4.695e-15\n",
      "Reult Model:                             OLS Regression Results                            \n",
      "==============================================================================\n",
      "Dep. Variable:              Grad.Rate   R-squared:                       0.378\n",
      "Model:                            OLS   Adj. R-squared:                  0.376\n",
      "Method:                 Least Squares   F-statistic:                     235.0\n",
      "Date:                Sun, 13 Oct 2019   Prob (F-statistic):           1.82e-80\n",
      "Time:                        16:50:57   Log-Likelihood:                -3127.2\n",
      "No. Observations:                 777   AIC:                             6260.\n",
      "Df Residuals:                     774   BIC:                             6274.\n",
      "Df Model:                           2                                         \n",
      "Covariance Type:            nonrobust                                         \n",
      "==============================================================================\n",
      "                 coef    std err          t      P>|t|      [0.025      0.975]\n",
      "------------------------------------------------------------------------------\n",
      "const         33.0860      1.607     20.593      0.000      29.932      36.240\n",
      "Outstate       0.0019      0.000     13.658      0.000       0.002       0.002\n",
      "Top25perc      0.2255      0.028      7.995      0.000       0.170       0.281\n",
      "==============================================================================\n",
      "Omnibus:                       25.071   Durbin-Watson:                   1.945\n",
      "Prob(Omnibus):                  0.000   Jarque-Bera (JB):               48.404\n",
      "Skew:                           0.189   Prob(JB):                     3.08e-11\n",
      "Kurtosis:                       4.163   Cond. No.                     3.69e+04\n",
      "==============================================================================\n",
      "\n",
      "Warnings:\n",
      "[1] Standard Errors assume that the covariance matrix of the errors is correctly specified.\n",
      "[2] The condition number is large, 3.69e+04. This might indicate that there are\n",
      "strong multicollinearity or other numerical problems.\n",
      "Most Useful Variables:\n",
      "['Outstate', 'Top25perc']\n"
     ]
    },
    {
     "name": "stderr",
     "output_type": "stream",
     "text": [
      "/Users/robert/anaconda3/lib/python3.7/site-packages/numpy/core/fromnumeric.py:2495: FutureWarning: Method .ptp is deprecated and will be removed in a future version. Use numpy.ptp instead.\n",
      "  return ptp(axis=axis, out=out, **kwargs)\n",
      "/Users/robert/anaconda3/lib/python3.7/site-packages/ipykernel_launcher.py:36: FutureWarning: \n",
      "The current behaviour of 'Series.argmin' is deprecated, use 'idxmin'\n",
      "instead.\n",
      "The behavior of 'argmin' will be corrected to return the positional\n",
      "minimum in the future. For now, use 'series.values.argmin' or\n",
      "'np.argmin(np.array(values))' to get the position of the minimum\n",
      "row.\n"
     ]
    }
   ],
   "source": [
    "from sklearn.datasets import load_boston\n",
    "import pandas as pd\n",
    "import numpy as np\n",
    "import statsmodels.api as sm\n",
    "X = newdf\n",
    "y = college_info['Grad.Rate']\n",
    "def stepwise_selection(X, y, \n",
    "                       initial_list=[], \n",
    "                       threshold_in=0.01, \n",
    "                       threshold_out = 0.05, \n",
    "                       verbose=True):\n",
    "    \"\"\" Perform a forward-backward feature selection \n",
    "    based on p-value from statsmodels.api.OLS\n",
    "    Arguments:\n",
    "        X - pandas.DataFrame with candidate features\n",
    "        y - list-like with the target\n",
    "        initial_list - list of features to start with (column names of X)\n",
    "        threshold_in - include a feature if its p-value < threshold_in\n",
    "        threshold_out - exclude a feature if its p-value > threshold_out\n",
    "        verbose - whether to print the sequence of inclusions and exclusions\n",
    "    Returns: list of selected features \n",
    "    Always set threshold_in < threshold_out to avoid infinite looping.\n",
    "    See https://en.wikipedia.org/wiki/Stepwise_regression for the details\n",
    "    \"\"\"\n",
    "    included = list(initial_list)\n",
    "    while True:\n",
    "        changed=False\n",
    "        # forward step\n",
    "        excluded = list(set(X.columns)-set(included))\n",
    "        new_pval = pd.Series(index=excluded)\n",
    "        for new_column in excluded:\n",
    "            model = sm.OLS(y, sm.add_constant(pd.DataFrame(X[included+[new_column]]))).fit()\n",
    "            new_pval[new_column] = model.pvalues[new_column]\n",
    "        best_pval = new_pval.min()\n",
    "        if best_pval < threshold_in:\n",
    "            best_feature = new_pval.argmin()\n",
    "            included.append(best_feature)\n",
    "            changed=True\n",
    "            if verbose:\n",
    "                print('Add Variable:  {:10} | p-value {:.5}'.format(best_feature, best_pval))\n",
    "\n",
    "        # backward step\n",
    "        model = sm.OLS(y, sm.add_constant(pd.DataFrame(X[included]))).fit()\n",
    "        # use all coefs except intercept\n",
    "        pvalues = model.pvalues.iloc[1:]\n",
    "        worst_pval = pvalues.max() # null if pvalues is empty\n",
    "        if worst_pval > threshold_out:\n",
    "            changed=True\n",
    "            worst_feature = pvalues.argmax()\n",
    "            included.remove(worst_feature)\n",
    "            if verbose:\n",
    "                print('Drop {:30} with p-value {:.5}'.format(worst_feature, worst_pval))\n",
    "        if not changed:\n",
    "            break\n",
    "    return included,model\n",
    "\n",
    "result,model = stepwise_selection(X, y)\n",
    "\n",
    "print(\"Reult Model: {}\".format(model.summary()))\n",
    "print('Most Useful Variables:')\n",
    "print(result)\n",
    "\n",
    "# predy = model.predict(X['Outstate'])\n",
    "# print(X['Outstate'])"
   ]
  },
  {
   "cell_type": "markdown",
   "metadata": {},
   "source": [
    "## BIC"
   ]
  },
  {
   "cell_type": "code",
   "execution_count": 9,
   "metadata": {},
   "outputs": [
    {
     "name": "stdout",
     "output_type": "stream",
     "text": [
      "BIC Apps:  4407.711775672192\n",
      "BIC Enroll:  4424.240873201217\n",
      "BIC Outstate:  4117.653555107132\n",
      "BIC Top10perc:  4206.247866576254\n",
      "BIC Top25perc:  4223.767907533625\n",
      "BIC 'Top25Perc & Outstate':  4062.6556413233375\n"
     ]
    }
   ],
   "source": [
    "from RegscorePy import *\n",
    "y = np.array(y).reshape(-1,1)\n",
    "\n",
    "result_from2var = []\n",
    "# print(X['Outstate'],X['Top25perc'])\n",
    "for i,j in zip(X['Outstate'],X['Top25perc']):\n",
    "    result_from2var.append(0.0019*i+0.2255*j+33.0860)\n",
    "a,b= y.reshape(1,-1)[0].astype(float), np.array(result_from2var).reshape(1,-1)[0].astype(float)\n",
    "bic_2var = bic.bic(a,b, 2)\n",
    "\n",
    "\n",
    "def get_bic(xin,yin,r = LinearRegression()):\n",
    "#     print(xin.shape,yin.shape)\n",
    "    r.fit(xin, yin)\n",
    "    y_pred = r.predict(xin)\n",
    "    assert len(yin[0]) == len(y_pred[0])\n",
    "    a,b= yin.reshape(1,-1)[0].astype(float), y_pred.reshape(1,-1)[0].astype(float)\n",
    "    result = bic.bic(a,b, 1)\n",
    "    return result,y_pred\n",
    "x_enroll = np.array([X[\"Enroll\"]]).reshape(-1,1)\n",
    "x_apps = np.array([X[\"Apps\"]]).reshape(-1,1)\n",
    "x_outstate = np.array([X[\"Outstate\"]]).reshape(-1,1)\n",
    "x_top10perc = np.array([X[\"Top10perc\"]]).reshape(-1,1)\n",
    "x_top25perc = np.array([X[\"Top25perc\"]]).reshape(-1,1)\n",
    "\n",
    "bic_enroll,enroll_pred = get_bic(x_enroll,y)\n",
    "bic_apps,apps_pred = get_bic(x_apps,y) \n",
    "bic_outstate,outstate_pred = get_bic(x_outstate,y)\n",
    "bic_top10perc,top10perc_pred = get_bic(x_top10perc,y)\n",
    "bic_top25perc,top25perc_pred = get_bic(x_top25perc,y)\n",
    "\n",
    "print(\"BIC Apps: \",bic_apps)\n",
    "print(\"BIC Enroll: \",bic_enroll)\n",
    "print(\"BIC Outstate: \",bic_outstate)\n",
    "print(\"BIC Top10perc: \",bic_top10perc)\n",
    "print(\"BIC Top25perc: \",bic_top25perc)\n",
    "print(\"BIC 'Top25Perc & Outstate': \",bic_2var)\n",
    "\n",
    "\n",
    "\n"
   ]
  },
  {
   "cell_type": "markdown",
   "metadata": {},
   "source": [
    "### e) Compare the accurate of the model using only useful predictors with the one of the model using all five predictors? (5 points)"
   ]
  },
  {
   "cell_type": "code",
   "execution_count": 10,
   "metadata": {},
   "outputs": [
    {
     "name": "stdout",
     "output_type": "stream",
     "text": [
      "mse_5variables: 180.89546889773055\n",
      "mse_2variables: 183.37109084792792\n"
     ]
    }
   ],
   "source": [
    "regressor_5 = LinearRegression()\n",
    "regressor_5.fit(newdf, y)\n",
    "y_pred_5 = regressor_5.predict(newdf)\n",
    "\n",
    "regressor_2 = LinearRegression()\n",
    "df_2var = newdf[['Outstate','Top25perc']]\n",
    "regressor_2.fit(df_2var,y)\n",
    "y_pred_2 = regressor_2.predict(df_2var)\n",
    "\n",
    "# regressor_2_2 = LinearRegression()\n",
    "# df_2var_2 = newdf[['Outstate','Top25perc']]\n",
    "# # regressor_2_2.fit(df_2var_2,y)\n",
    "# # y_pred_2_2 = regressor_2.predict(df_2var_2)\n",
    "\n",
    "from sklearn.metrics import mean_squared_error \n",
    "mse_dict = {}\n",
    "# mse_dict['mse_enroll'] = mean_squared_error(enroll_pred,y) \n",
    "# mse_dict['mse_apps'] = mean_squared_error(apps_pred,y)\n",
    "# mse_dict['mse_outstate'] = mean_squared_error(outstate_pred,y)\n",
    "# mse_dict['mse_top10perc'] = mean_squared_error(top10perc_pred,y)\n",
    "# mse_dict['mse_top25perc'] = mean_squared_error(top25perc_pred,y)\n",
    "mse_dict['mse_5variables'] = mean_squared_error(y_pred_5,y)\n",
    "mse_dict['mse_2variables'] = mean_squared_error(result_from2var,y)\n",
    "\n",
    "\n",
    "\n",
    "\n",
    "for i in mse_dict.keys():\n",
    "    print(\"{}: {}\".format(i,mse_dict[i]))\n",
    "\n",
    "\n"
   ]
  },
  {
   "cell_type": "markdown",
   "metadata": {},
   "source": [
    "### f) Given a set of predictor corresponding to Carnegie Mellon University, what graduation rate value should the most accurate model predict? (5 points)"
   ]
  },
  {
   "cell_type": "code",
   "execution_count": 11,
   "metadata": {},
   "outputs": [
    {
     "name": "stdout",
     "output_type": "stream",
     "text": [
      "Ground Truth: [74]\n",
      "[89.20112305]\n",
      "[65.29355829]\n",
      "[69.19326336]\n",
      "[83.65906724]\n",
      "[81.10032667]\n",
      "[79.20853249]\n",
      "87.1655\n",
      "[89.20112305]\n"
     ]
    }
   ],
   "source": [
    "# print(college_info.loc[college_info['Name']==\"Carnegie Mellon University\"].index)\n",
    "# college_namedf.index[college_namedf['Carnegie Mellon University'] == True].tolist()\n",
    "print(\"Ground Truth:\",y[87])\n",
    "print(y_pred_5[87])\n",
    "print(enroll_pred[87])\n",
    "print(apps_pred[87])\n",
    "print(outstate_pred[87])\n",
    "print(top10perc_pred[87])\n",
    "print(top25perc_pred[87])\n",
    "print(result_from2var[87])\n",
    "print(y_pred_5[87])\n"
   ]
  },
  {
   "cell_type": "markdown",
   "metadata": {},
   "source": [
    "### Answer: Most accurate model  is using the model of  number of applications received, with the graduation rate of 69.19326336%"
   ]
  },
  {
   "cell_type": "markdown",
   "metadata": {},
   "source": [
    "## Question 3"
   ]
  },
  {
   "cell_type": "markdown",
   "metadata": {},
   "source": [
    "### Data Set\n",
    "\n",
    "[City of Chicago Speed Camera Violations](https://catalog.data.gov/dataset/speed-camera-violations-997eb) from data.gov (from 2014-07-01 to 2019-09-24 ), the data points I'm choosing are the time records and number of speed violations recored by the camera for every corresponding time.\n",
    "\n",
    "### My Assumption\n",
    "\n",
    "The monthly average speed violations decreseas along with time.\n",
    "\n",
    "\n",
    "### Methology\n",
    "\n",
    "Algorithm used: Linear Regression\n",
    "\n",
    "**Procedure**\n",
    "1. Used data from 2014-07 to 2016-03 as the training dataset\n",
    "2. Used the trained model to predict the speed violations from 2016-01 to 2019-07\n",
    "\n",
    "### Conclusions\n",
    "\n",
    "The trained model mostly corretly reflected the actual result, though for the time period from Janurary 2019 to July 2019, there is a highly non-linear flucturation of the speed violations, so fo that part the model didn't reflect the true result accurately\n",
    "\n",
    "To sum up, my assumption holds true since the trend of monthly average speed violations for the city of Chicago decreased along with time.\n",
    "\n",
    "\n",
    "\n",
    "\n",
    "\n",
    "\n"
   ]
  },
  {
   "cell_type": "code",
   "execution_count": 12,
   "metadata": {},
   "outputs": [
    {
     "name": "stdout",
     "output_type": "stream",
     "text": [
      "0        2019-09-24\n",
      "1        2019-09-24\n",
      "2        2019-09-24\n",
      "3        2019-09-24\n",
      "4        2019-09-24\n",
      "            ...    \n",
      "201167   2014-07-01\n",
      "201168   2014-07-01\n",
      "201169   2014-07-01\n",
      "201170   2014-07-01\n",
      "201171   2014-07-01\n",
      "Name: VIOLATION DATE, Length: 201172, dtype: datetime64[ns]\n"
     ]
    },
    {
     "name": "stderr",
     "output_type": "stream",
     "text": [
      "/Users/robert/anaconda3/lib/python3.7/site-packages/pandas/plotting/_matplotlib/converter.py:103: FutureWarning: Using an implicitly registered datetime converter for a matplotlib plotting method. The converter was registered by pandas on import. Future versions of pandas will require you to explicitly register matplotlib converters.\n",
      "\n",
      "To register the converters:\n",
      "\t>>> from pandas.plotting import register_matplotlib_converters\n",
      "\t>>> register_matplotlib_converters()\n",
      "  warnings.warn(msg, FutureWarning)\n"
     ]
    },
    {
     "data": {
      "image/png": "[encoded data removed]",
      "text/plain": [
       "<Figure size 432x288 with 1 Axes>"
      ]
     },
     "metadata": {
      "needs_background": "light"
     },
     "output_type": "display_data"
    },
    {
     "data": {
      "image/png": "[encoded data removed]",
      "text/plain": [
       "<Figure size 432x288 with 1 Axes>"
      ]
     },
     "metadata": {
      "needs_background": "light"
     },
     "output_type": "display_data"
    }
   ],
   "source": [
    "##### DATA INITIALIZATION #####\n",
    "scvdf = pd.read_csv(\"Speed_Camera_Violations.csv\")\n",
    "scvdf[\"VIOLATION DATE\"] = pd.to_datetime(scvdf[\"VIOLATION DATE\"])\n",
    "print(scvdf[\"VIOLATION DATE\"])\n",
    "violate_date = np.array(scvdf[\"VIOLATION DATE\"].map(dt.datetime.toordinal)).reshape(-1,1)\n",
    "violate_cnt = np.array(scvdf[\"VIOLATIONS\"])\n",
    "start = 0\n",
    "violate_mean = []\n",
    "adjusted_timestamp = []\n",
    "adjusted_time = []\n",
    "for i in range(30,len(violate_cnt),30):\n",
    "    violate_mean.append(violate_cnt[start:i].mean())\n",
    "    adjusted_timestamp.append(violate_date[i-30])\n",
    "    adjusted_time.append(dt.datetime.fromordinal(violate_date[i-30]))\n",
    "##### Split the portion for Training and Testing #####\n",
    "TRAIN_PORTION = 1-0.3\n",
    "train_len = int(len(violate_mean) * TRAIN_PORTION) # Set the portion for training\n",
    "test_len = len(violate_mean) - train_len # The rest portion for testing\n",
    "Y_train = violate_mean[train_len:]  \n",
    "X_train = adjusted_timestamp[train_len:] \n",
    "Y_test = violate_mean[:train_len]  \n",
    "X_test = adjusted_timestamp[:train_len]\n",
    "regressor = LinearRegression()  \n",
    "regressor.fit(X_train, Y_train) #training the algorithm\n",
    "##### TRAIN #####\n",
    "Y_pred = regressor.predict(X_train)\n",
    "plt.scatter(X_train, Y_train,  color='gray',label=\"Training Dataset\")\n",
    "pred_date = [dt.datetime.fromordinal(i) for i in X_train]\n",
    "train_date = [dt.datetime.fromordinal(i) for i in X_train]\n",
    "plt.plot(train_date, Y_pred, color='green', linewidth=2,label=\"Trained Model\")\n",
    "plt.xlabel(\"Time\")\n",
    "plt.ylabel(\"Monthly Average Speed Violations \\n in City of Chicago\")\n",
    "plt.xticks(rotation=30)\n",
    "plt.title(\"Trained Model using Linear Regression\")\n",
    "plt.legend()\n",
    "plt.show()\n",
    "##### TEST #####\n",
    "Y_pred = regressor.predict(X_test)\n",
    "plt.scatter(X_test, Y_test,  color='orange',label='Actual Test Dataset')\n",
    "pred_date = [dt.datetime.fromordinal(i) for i in X_test]\n",
    "train_date = [dt.datetime.fromordinal(i) for i in X_train]\n",
    "plt.plot(pred_date, Y_pred, color='green', linewidth=2, label=\"Predicted result\")\n",
    "plt.xlabel(\"Time\")\n",
    "plt.ylabel(\"Monthly Average Speed Violations \\n in City of Chicago\")\n",
    "plt.title(\"Test Result by Using Trained Model\")\n",
    "plt.xticks(rotation=30)\n",
    "plt.legend()\n",
    "plt.show()\n",
    "\n"
   ]
  },
  {
   "cell_type": "markdown",
   "metadata": {},
   "source": [
    "## Question 4"
   ]
  },
  {
   "cell_type": "code",
   "execution_count": 15,
   "metadata": {},
   "outputs": [
    {
     "data": {
      "image/png": "[encoded data removed]",
      "text/plain": [
       "<Figure size 432x288 with 1 Axes>"
      ]
     },
     "metadata": {
      "needs_background": "light"
     },
     "output_type": "display_data"
    },
    {
     "data": {
      "image/png": "[encoded data removed]",
      "text/plain": [
       "<Figure size 432x288 with 1 Axes>"
      ]
     },
     "metadata": {
      "needs_background": "light"
     },
     "output_type": "display_data"
    },
    {
     "data": {
      "image/png": "[encoded data removed]",
      "text/plain": [
       "<Figure size 432x288 with 1 Axes>"
      ]
     },
     "metadata": {
      "needs_background": "light"
     },
     "output_type": "display_data"
    },
    {
     "name": "stdout",
     "output_type": "stream",
     "text": [
      "Predicted Unemployment Rate by year 2020: 2020-12-31 00:00:00 [11.35775739]\n",
      "Actual Unemployment Rate by year 2020: 2020-12-31 00:00:00 3.9739999999999998\n",
      "3.9739999999999998 [11.35775739]\n",
      "185.80164534513926\n"
     ]
    }
   ],
   "source": [
    "from sklearn.kernel_ridge import KernelRidge\n",
    "isr_lur = pd.read_csv(\"ODA-ISR_LUR.csv\")\n",
    "original_date = np.array(pd.to_datetime(isr_lur['Date']).map(dt.datetime.toordinal)).reshape(-1,1)\n",
    "original_date = [dt.datetime.fromordinal(i) for i in original_date]\n",
    "plt.plot(original_date,isr_lur['Value'])\n",
    "plt.show()\n",
    "endpos = isr_lur.loc[isr_lur['Date'] == '2013-12-31'].index[0]\n",
    "endpos_2020 = isr_lur.loc[isr_lur['Date'] == '2020-12-31'].index[0]\n",
    "trueval_2020 = isr_lur['Value'][endpos_2020]\n",
    "date_to_2020 = np.array(pd.to_datetime(isr_lur.tail(len(isr_lur)-endpos_2020)['Date']).map(dt.datetime.toordinal)).reshape(-1,1)\n",
    "isr_lur = isr_lur.tail(len(isr_lur)-endpos)\n",
    "isr_lur['Date'] = pd.to_datetime(isr_lur['Date'])\n",
    "isr_lur_val = np.array(isr_lur['Value'])\n",
    "\n",
    "plt.plot(isr_lur['Date'], isr_lur_val, color='orange', linewidth=2)\n",
    "plt.title(\"Unemployment rate (per 100 Israeli workforces)\\n from 1980-12-31 to 2013-09-02.\")\n",
    "plt.show()\n",
    "isr_lur_date = np.array(isr_lur['Date'].map(dt.datetime.toordinal))\n",
    "\n",
    "X = isr_lur_date.reshape(-1,1)  # Dependent variable\n",
    "Y = isr_lur_val.reshape(-1,1) # Explanatory Variable\n",
    "# X_train, X_test, y_train, y_test = train_test_split(X, Y, test_size=0.9, random_state=0)\n",
    "X_train, Y_train = X,Y\n",
    "\n",
    "#################Choose Regressor#################\n",
    "# regressor = LogisticRegression()\n",
    "# regressor = SVR()\n",
    "# regressor = KernelRidge(alpha=.03)\n",
    "regressor = LinearRegression()\n",
    "################Training##########################\n",
    "regressor.fit(X_train, Y_train) #training the algorithm\n",
    "#To retrieve the intercept:\n",
    "# print(\"Interception: \",regressor.intercept_)\n",
    "# print(\"Correlation Coefficient:\",regressor.coef_)\n",
    "y_pred = regressor.predict(date_to_2020)\n",
    "x_date = [dt.datetime.fromordinal(i) for i in date_to_2020]\n",
    "plt.plot(x_date, y_pred, color='red', linewidth=2)\n",
    "plt.xlabel(\"Year\")\n",
    "plt.ylabel(\"Prediction (%)\")\n",
    "plt.title(\"Predicted Israel Unemployment Rate\\n (% of Total Labor Force)\")\n",
    "plt.show()\n",
    "print(\"Predicted Unemployment Rate by year 2020:\",x_date[0],y_pred[0])\n",
    "print(\"Actual Unemployment Rate by year 2020:\",x_date[0],trueval_2020)\n",
    "\n",
    "#MAPE for accuracy\n",
    "import numpy as np\n",
    "def mape(y_true, y_pred):\n",
    "    print(y_true,y_pred)\n",
    "    y_true, y_pred = np.array(y_true), np.array(y_pred)\n",
    "    return np.mean(np.abs((y_true - y_pred) / y_true)) * 100\n",
    "q4_accuracy = mape(y_true=trueval_2020,y_pred=y_pred[0])\n",
    "print(q4_accuracy)\n"
   ]
  },
  {
   "cell_type": "code",
   "execution_count": null,
   "metadata": {},
   "outputs": [],
   "source": []
  },
  {
   "cell_type": "code",
   "execution_count": null,
   "metadata": {},
   "outputs": [],
   "source": []
  }
 ],
 "metadata": {
  "kernelspec": {
   "display_name": "Python 3",
   "language": "python",
   "name": "python3"
  },
  "language_info": {
   "codemirror_mode": {
    "name": "ipython",
    "version": 3
   },
   "file_extension": ".py",
   "mimetype": "text/x-python",
   "name": "python",
   "nbconvert_exporter": "python",
   "pygments_lexer": "ipython3",
   "version": "3.7.3"
  }
 },
 "nbformat": 4,
 "nbformat_minor": 2
}
